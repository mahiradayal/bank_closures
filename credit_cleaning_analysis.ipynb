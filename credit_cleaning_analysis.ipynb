{
 "cells": [
  {
   "cell_type": "code",
   "execution_count": 1,
   "metadata": {},
   "outputs": [
    {
     "name": "stderr",
     "output_type": "stream",
     "text": [
      "/Users/mahiradayal/.pyenv/versions/3.8.2/lib/python3.8/site-packages/pandas/compat/__init__.py:120: UserWarning: Could not import the lzma module. Your installed Python is incomplete. Attempting to use lzma compression will result in a RuntimeError.\n",
      "  warnings.warn(msg)\n"
     ]
    }
   ],
   "source": [
    "import pandas as pd"
   ]
  },
  {
   "cell_type": "markdown",
   "metadata": {},
   "source": [
    "\"credit\" shows the percentage of people who have a credit score under 660 by county in 2020 Q1. See creditscore_scrape.ipynb for methodology on how this data (Equifax Subprime Credit Population FRED Economic Data) was scraped and cleaned."
   ]
  },
  {
   "cell_type": "code",
   "execution_count": 2,
   "metadata": {},
   "outputs": [],
   "source": [
    "credit = pd.read_csv(\"/Users/mahiradayal/masters_project/full_credit.csv\")"
   ]
  },
  {
   "cell_type": "markdown",
   "metadata": {},
   "source": [
    "\"banks\" shows the banks per county (using FIP codes). See https://colab.research.google.com/drive/1AXF7Y1J829PHL6bQHsxSYZM1kk7gUn64?usp=sharing for methodology on how FDIC banks data was cleaned, combined with census income and population data, merged using FIP codes and how the banks per capita figure was reached. Previous notebooks show how this FDIC data was geocoded and tested using the Google Maps API. "
   ]
  },
  {
   "cell_type": "code",
   "execution_count": 3,
   "metadata": {},
   "outputs": [
    {
     "data": {
      "text/html": [
       "<div>\n",
       "<style scoped>\n",
       "    .dataframe tbody tr th:only-of-type {\n",
       "        vertical-align: middle;\n",
       "    }\n",
       "\n",
       "    .dataframe tbody tr th {\n",
       "        vertical-align: top;\n",
       "    }\n",
       "\n",
       "    .dataframe thead th {\n",
       "        text-align: right;\n",
       "    }\n",
       "</style>\n",
       "<table border=\"1\" class=\"dataframe\">\n",
       "  <thead>\n",
       "    <tr style=\"text-align: right;\">\n",
       "      <th></th>\n",
       "      <th>FIPS</th>\n",
       "      <th>Number of Banks</th>\n",
       "      <th>POPULATION</th>\n",
       "      <th>MEDIAN_HOUSEHOLD_INCOME</th>\n",
       "      <th>BANKS_PER_CAP*100</th>\n",
       "      <th>Name</th>\n",
       "      <th>State</th>\n",
       "    </tr>\n",
       "  </thead>\n",
       "  <tbody>\n",
       "    <tr>\n",
       "      <th>0</th>\n",
       "      <td>29189</td>\n",
       "      <td>1</td>\n",
       "      <td>996919</td>\n",
       "      <td>67420</td>\n",
       "      <td>0.000100</td>\n",
       "      <td>St Louis</td>\n",
       "      <td>MO</td>\n",
       "    </tr>\n",
       "    <tr>\n",
       "      <th>1</th>\n",
       "      <td>17043</td>\n",
       "      <td>1</td>\n",
       "      <td>929060</td>\n",
       "      <td>92809</td>\n",
       "      <td>0.000108</td>\n",
       "      <td>Du Page</td>\n",
       "      <td>IL</td>\n",
       "    </tr>\n",
       "    <tr>\n",
       "      <th>2</th>\n",
       "      <td>24033</td>\n",
       "      <td>1</td>\n",
       "      <td>908670</td>\n",
       "      <td>84920</td>\n",
       "      <td>0.000110</td>\n",
       "      <td>Prince Georges</td>\n",
       "      <td>MD</td>\n",
       "    </tr>\n",
       "    <tr>\n",
       "      <th>3</th>\n",
       "      <td>13089</td>\n",
       "      <td>1</td>\n",
       "      <td>749323</td>\n",
       "      <td>62399</td>\n",
       "      <td>0.000133</td>\n",
       "      <td>De Kalb</td>\n",
       "      <td>GA</td>\n",
       "    </tr>\n",
       "    <tr>\n",
       "      <th>4</th>\n",
       "      <td>11001</td>\n",
       "      <td>1</td>\n",
       "      <td>692683</td>\n",
       "      <td>86420</td>\n",
       "      <td>0.000144</td>\n",
       "      <td>Washington</td>\n",
       "      <td>DC</td>\n",
       "    </tr>\n",
       "  </tbody>\n",
       "</table>\n",
       "</div>"
      ],
      "text/plain": [
       "    FIPS  Number of Banks  POPULATION  MEDIAN_HOUSEHOLD_INCOME  \\\n",
       "0  29189                1      996919                    67420   \n",
       "1  17043                1      929060                    92809   \n",
       "2  24033                1      908670                    84920   \n",
       "3  13089                1      749323                    62399   \n",
       "4  11001                1      692683                    86420   \n",
       "\n",
       "   BANKS_PER_CAP*100            Name State  \n",
       "0           0.000100        St Louis    MO  \n",
       "1           0.000108         Du Page    IL  \n",
       "2           0.000110  Prince Georges    MD  \n",
       "3           0.000133         De Kalb    GA  \n",
       "4           0.000144      Washington    DC  "
      ]
     },
     "execution_count": 3,
     "metadata": {},
     "output_type": "execute_result"
    }
   ],
   "source": [
    "banks = pd.read_csv(\"/Users/mahiradayal/masters_project/bankscredit.csv\")\n",
    "banks = banks.drop(columns=['B01003_001M', 'B19013_001M', 'state', 'county'])\n",
    "banks = banks.rename(columns={\"Banks\": \"Number of Banks\"})\n",
    "banks.head()"
   ]
  },
  {
   "cell_type": "code",
   "execution_count": 4,
   "metadata": {},
   "outputs": [
    {
     "data": {
      "text/html": [
       "<div>\n",
       "<style scoped>\n",
       "    .dataframe tbody tr th:only-of-type {\n",
       "        vertical-align: middle;\n",
       "    }\n",
       "\n",
       "    .dataframe tbody tr th {\n",
       "        vertical-align: top;\n",
       "    }\n",
       "\n",
       "    .dataframe thead th {\n",
       "        text-align: right;\n",
       "    }\n",
       "</style>\n",
       "<table border=\"1\" class=\"dataframe\">\n",
       "  <thead>\n",
       "    <tr style=\"text-align: right;\">\n",
       "      <th></th>\n",
       "      <th>County Name</th>\n",
       "      <th>State</th>\n",
       "      <th>FIPS County Code</th>\n",
       "      <th>Link</th>\n",
       "      <th>url</th>\n",
       "      <th>q1_credit</th>\n",
       "      <th>credit_percent</th>\n",
       "    </tr>\n",
       "  </thead>\n",
       "  <tbody>\n",
       "    <tr>\n",
       "      <th>0</th>\n",
       "      <td>AUTAUGA</td>\n",
       "      <td>AL</td>\n",
       "      <td>1001</td>\n",
       "      <td>https://fred.stlouisfed.org/series/EQFXSUBPRIME00</td>\n",
       "      <td>https://fred.stlouisfed.org/series/EQFXSUBPRIM...</td>\n",
       "      <td>&lt;span class=\"series-meta-observation-value\"&gt;30...</td>\n",
       "      <td>30.03273</td>\n",
       "    </tr>\n",
       "    <tr>\n",
       "      <th>1</th>\n",
       "      <td>BALDWIN</td>\n",
       "      <td>AL</td>\n",
       "      <td>1003</td>\n",
       "      <td>https://fred.stlouisfed.org/series/EQFXSUBPRIME00</td>\n",
       "      <td>https://fred.stlouisfed.org/series/EQFXSUBPRIM...</td>\n",
       "      <td>&lt;span class=\"series-meta-observation-value\"&gt;24...</td>\n",
       "      <td>24.19225</td>\n",
       "    </tr>\n",
       "    <tr>\n",
       "      <th>2</th>\n",
       "      <td>BARBOUR</td>\n",
       "      <td>AL</td>\n",
       "      <td>1005</td>\n",
       "      <td>https://fred.stlouisfed.org/series/EQFXSUBPRIME00</td>\n",
       "      <td>https://fred.stlouisfed.org/series/EQFXSUBPRIM...</td>\n",
       "      <td>&lt;span class=\"series-meta-observation-value\"&gt;41...</td>\n",
       "      <td>41.07486</td>\n",
       "    </tr>\n",
       "    <tr>\n",
       "      <th>3</th>\n",
       "      <td>BIBB</td>\n",
       "      <td>AL</td>\n",
       "      <td>1007</td>\n",
       "      <td>https://fred.stlouisfed.org/series/EQFXSUBPRIME00</td>\n",
       "      <td>https://fred.stlouisfed.org/series/EQFXSUBPRIM...</td>\n",
       "      <td>&lt;span class=\"series-meta-observation-value\"&gt;35...</td>\n",
       "      <td>35.78089</td>\n",
       "    </tr>\n",
       "    <tr>\n",
       "      <th>4</th>\n",
       "      <td>BLOUNT</td>\n",
       "      <td>AL</td>\n",
       "      <td>1009</td>\n",
       "      <td>https://fred.stlouisfed.org/series/EQFXSUBPRIME00</td>\n",
       "      <td>https://fred.stlouisfed.org/series/EQFXSUBPRIM...</td>\n",
       "      <td>&lt;span class=\"series-meta-observation-value\"&gt;27...</td>\n",
       "      <td>27.83199</td>\n",
       "    </tr>\n",
       "  </tbody>\n",
       "</table>\n",
       "</div>"
      ],
      "text/plain": [
       "  County Name State  FIPS County Code  \\\n",
       "0     AUTAUGA    AL              1001   \n",
       "1     BALDWIN    AL              1003   \n",
       "2     BARBOUR    AL              1005   \n",
       "3        BIBB    AL              1007   \n",
       "4      BLOUNT    AL              1009   \n",
       "\n",
       "                                                Link  \\\n",
       "0  https://fred.stlouisfed.org/series/EQFXSUBPRIME00   \n",
       "1  https://fred.stlouisfed.org/series/EQFXSUBPRIME00   \n",
       "2  https://fred.stlouisfed.org/series/EQFXSUBPRIME00   \n",
       "3  https://fred.stlouisfed.org/series/EQFXSUBPRIME00   \n",
       "4  https://fred.stlouisfed.org/series/EQFXSUBPRIME00   \n",
       "\n",
       "                                                 url  \\\n",
       "0  https://fred.stlouisfed.org/series/EQFXSUBPRIM...   \n",
       "1  https://fred.stlouisfed.org/series/EQFXSUBPRIM...   \n",
       "2  https://fred.stlouisfed.org/series/EQFXSUBPRIM...   \n",
       "3  https://fred.stlouisfed.org/series/EQFXSUBPRIM...   \n",
       "4  https://fred.stlouisfed.org/series/EQFXSUBPRIM...   \n",
       "\n",
       "                                           q1_credit  credit_percent  \n",
       "0  <span class=\"series-meta-observation-value\">30...        30.03273  \n",
       "1  <span class=\"series-meta-observation-value\">24...        24.19225  \n",
       "2  <span class=\"series-meta-observation-value\">41...        41.07486  \n",
       "3  <span class=\"series-meta-observation-value\">35...        35.78089  \n",
       "4  <span class=\"series-meta-observation-value\">27...        27.83199  "
      ]
     },
     "execution_count": 4,
     "metadata": {},
     "output_type": "execute_result"
    }
   ],
   "source": [
    "credit.head()"
   ]
  },
  {
   "cell_type": "code",
   "execution_count": 5,
   "metadata": {},
   "outputs": [],
   "source": [
    "# Looking at whether there's a correlation between number of banks and credit scores\n",
    "\n",
    "column_1 = credit[\"credit_percent\"]\n",
    "column_2 = banks[\"Number of Banks\"]\n",
    "correlation = column_1.corr(column_2)"
   ]
  },
  {
   "cell_type": "code",
   "execution_count": 6,
   "metadata": {},
   "outputs": [
    {
     "data": {
      "text/plain": [
       "-0.02368768215815885"
      ]
     },
     "execution_count": 6,
     "metadata": {},
     "output_type": "execute_result"
    }
   ],
   "source": [
    "correlation"
   ]
  },
  {
   "cell_type": "markdown",
   "metadata": {},
   "source": [
    "A negative correlation is useful because our credit value is \"percentage of people with low credit scores\" so a higher value here means a lower credit score. Taking this as a correlation of 0.024. "
   ]
  },
  {
   "cell_type": "code",
   "execution_count": null,
   "metadata": {},
   "outputs": [],
   "source": []
  }
 ],
 "metadata": {
  "kernelspec": {
   "display_name": "Python 3",
   "language": "python",
   "name": "python3"
  },
  "language_info": {
   "codemirror_mode": {
    "name": "ipython",
    "version": 3
   },
   "file_extension": ".py",
   "mimetype": "text/x-python",
   "name": "python",
   "nbconvert_exporter": "python",
   "pygments_lexer": "ipython3",
   "version": "3.8.2"
  }
 },
 "nbformat": 4,
 "nbformat_minor": 4
}
