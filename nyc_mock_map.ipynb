{
 "cells": [
  {
   "cell_type": "code",
   "execution_count": 1,
   "metadata": {},
   "outputs": [
    {
     "name": "stderr",
     "output_type": "stream",
     "text": [
      "/Users/mahiradayal/.pyenv/versions/3.8.2/lib/python3.8/site-packages/pandas/compat/__init__.py:120: UserWarning: Could not import the lzma module. Your installed Python is incomplete. Attempting to use lzma compression will result in a RuntimeError.\n",
      "  warnings.warn(msg)\n"
     ]
    }
   ],
   "source": [
    "import pandas as pd"
   ]
  },
  {
   "cell_type": "code",
   "execution_count": 2,
   "metadata": {},
   "outputs": [],
   "source": [
    "df = pd.read_csv(\"/Users/mahiradayal/masters_project/bankscoords 2.csv\")"
   ]
  },
  {
   "cell_type": "code",
   "execution_count": 3,
   "metadata": {},
   "outputs": [
    {
     "data": {
      "text/html": [
       "<div>\n",
       "<style scoped>\n",
       "    .dataframe tbody tr th:only-of-type {\n",
       "        vertical-align: middle;\n",
       "    }\n",
       "\n",
       "    .dataframe tbody tr th {\n",
       "        vertical-align: top;\n",
       "    }\n",
       "\n",
       "    .dataframe thead th {\n",
       "        text-align: right;\n",
       "    }\n",
       "</style>\n",
       "<table border=\"1\" class=\"dataframe\">\n",
       "  <thead>\n",
       "    <tr style=\"text-align: right;\">\n",
       "      <th></th>\n",
       "      <th>placekey</th>\n",
       "      <th>safegraph_place_id</th>\n",
       "      <th>parent_placekey</th>\n",
       "      <th>parent_safegraph_place_id</th>\n",
       "      <th>location_name</th>\n",
       "      <th>street_address</th>\n",
       "      <th>city</th>\n",
       "      <th>region</th>\n",
       "      <th>postal_code</th>\n",
       "      <th>safegraph_brand_ids</th>\n",
       "      <th>...</th>\n",
       "      <th>bucketed_dwell_times</th>\n",
       "      <th>related_same_day_brand</th>\n",
       "      <th>related_same_month_brand</th>\n",
       "      <th>popularity_by_hour</th>\n",
       "      <th>popularity_by_day</th>\n",
       "      <th>device_type</th>\n",
       "      <th>address</th>\n",
       "      <th>lats</th>\n",
       "      <th>longs</th>\n",
       "      <th>coordinates</th>\n",
       "    </tr>\n",
       "  </thead>\n",
       "  <tbody>\n",
       "    <tr>\n",
       "      <th>0</th>\n",
       "      <td>222-222@65y-sj9-yd9</td>\n",
       "      <td>sg:01666dfc30a349b68859cdadc4420088</td>\n",
       "      <td>NaN</td>\n",
       "      <td>NaN</td>\n",
       "      <td>Citizens Bank</td>\n",
       "      <td>1 Municipal Plz</td>\n",
       "      <td>Clifton Park</td>\n",
       "      <td>NY</td>\n",
       "      <td>12065</td>\n",
       "      <td>SG_BRAND_f58dee45923c7d70f0bf747fee3f4b97</td>\n",
       "      <td>...</td>\n",
       "      <td>{\"&lt;5\":6,\"5-10\":53,\"11-20\":2,\"21-60\":4,\"61-120\"...</td>\n",
       "      <td>{\"Planet Fitness\":49,\"Stewart's Shops\":25,\"Pan...</td>\n",
       "      <td>{\"Stewart's Shops\":68,\"Shoppers World\":47,\"McD...</td>\n",
       "      <td>[0,0,0,0,0,0,0,0,3,6,11,13,12,6,9,11,3,5,2,0,0...</td>\n",
       "      <td>{\"Monday\":8,\"Tuesday\":10,\"Wednesday\":8,\"Thursd...</td>\n",
       "      <td>{\"android\":20,\"ios\":29}</td>\n",
       "      <td>1 Municipal Plz, Clifton Park, NY, 12065</td>\n",
       "      <td>42.863625</td>\n",
       "      <td>-73.786142</td>\n",
       "      <td>42.8636245, -73.7861422</td>\n",
       "    </tr>\n",
       "    <tr>\n",
       "      <th>1</th>\n",
       "      <td>222-222@63q-r6s-hbk</td>\n",
       "      <td>sg:86f6bcbe916446579f45c820b7fd7795</td>\n",
       "      <td>NaN</td>\n",
       "      <td>NaN</td>\n",
       "      <td>Bath National Bank</td>\n",
       "      <td>7434 Seneca Rd N</td>\n",
       "      <td>Hornell</td>\n",
       "      <td>NY</td>\n",
       "      <td>14843</td>\n",
       "      <td>NaN</td>\n",
       "      <td>...</td>\n",
       "      <td>{\"&lt;5\":7,\"5-10\":38,\"11-20\":3,\"21-60\":8,\"61-120\"...</td>\n",
       "      <td>{\"Advance Auto Parts\":66,\"Mobil\":33,\"Subway\":24}</td>\n",
       "      <td>{\"Wegmans Food Markets\":67,\"Kwik Fill\":57,\"Wal...</td>\n",
       "      <td>[0,0,0,0,0,0,0,0,4,8,13,9,16,13,10,18,8,4,5,1,...</td>\n",
       "      <td>{\"Monday\":11,\"Tuesday\":3,\"Wednesday\":7,\"Thursd...</td>\n",
       "      <td>{\"android\":17,\"ios\":21}</td>\n",
       "      <td>7434 Seneca Rd N, Hornell, NY, 14843</td>\n",
       "      <td>42.361763</td>\n",
       "      <td>-77.664681</td>\n",
       "      <td>42.3617634, -77.6646805</td>\n",
       "    </tr>\n",
       "    <tr>\n",
       "      <th>2</th>\n",
       "      <td>22j-222@627-tdt-m49</td>\n",
       "      <td>sg:86f2e03fbf81414d91aae9bae28ed5cc</td>\n",
       "      <td>NaN</td>\n",
       "      <td>NaN</td>\n",
       "      <td>Roslyn Savings Bank</td>\n",
       "      <td>160 S Main St</td>\n",
       "      <td>Freeport</td>\n",
       "      <td>NY</td>\n",
       "      <td>11520</td>\n",
       "      <td>NaN</td>\n",
       "      <td>...</td>\n",
       "      <td>{\"&lt;5\":0,\"5-10\":3,\"11-20\":0,\"21-60\":0,\"61-120\":...</td>\n",
       "      <td>{\"BJ's Wholesale Club\":100,\"Jersey Mike's\":100}</td>\n",
       "      <td>{\"CVS\":95,\"Sunoco\":72,\"Dunkin'\":71,\"Subway\":68...</td>\n",
       "      <td>[0,0,0,0,0,0,0,0,4,5,5,5,3,1,2,1,1,0,0,0,0,0,0,0]</td>\n",
       "      <td>{\"Monday\":2,\"Tuesday\":2,\"Wednesday\":1,\"Thursda...</td>\n",
       "      <td>{\"android\":4,\"ios\":0}</td>\n",
       "      <td>160 S Main St, Freeport, NY, 11520</td>\n",
       "      <td>40.653044</td>\n",
       "      <td>-73.578437</td>\n",
       "      <td>40.653044, -73.57843729999999</td>\n",
       "    </tr>\n",
       "    <tr>\n",
       "      <th>3</th>\n",
       "      <td>228-222@65z-jqt-4jv</td>\n",
       "      <td>sg:1497683ee48c478daf1418dafb1bdf74</td>\n",
       "      <td>NaN</td>\n",
       "      <td>NaN</td>\n",
       "      <td>Community Bank</td>\n",
       "      <td>104 S Peterboro St</td>\n",
       "      <td>Canastota</td>\n",
       "      <td>NY</td>\n",
       "      <td>13032</td>\n",
       "      <td>SG_BRAND_4bc55c30e696d18d0a971b7a84aa2ea2</td>\n",
       "      <td>...</td>\n",
       "      <td>{\"&lt;5\":4,\"5-10\":23,\"11-20\":1,\"21-60\":0,\"61-120\"...</td>\n",
       "      <td>{\"Cellular Sales\":50}</td>\n",
       "      <td>{\"SavOn\":71,\"Walmart\":58,\"McDonald's\":52,\"Dunk...</td>\n",
       "      <td>[0,0,0,0,0,0,0,0,2,3,4,5,5,5,3,2,1,0,0,0,0,0,0,0]</td>\n",
       "      <td>{\"Monday\":8,\"Tuesday\":2,\"Wednesday\":4,\"Thursda...</td>\n",
       "      <td>{\"android\":10,\"ios\":9}</td>\n",
       "      <td>104 S Peterboro St, Canastota, NY, 13032</td>\n",
       "      <td>43.078948</td>\n",
       "      <td>-75.751004</td>\n",
       "      <td>43.0789479, -75.75100359999999</td>\n",
       "    </tr>\n",
       "    <tr>\n",
       "      <th>4</th>\n",
       "      <td>zzy-226@627-wc7-9pv</td>\n",
       "      <td>sg:4dc3d15e657b4c7c8badd08e31692f82</td>\n",
       "      <td>NaN</td>\n",
       "      <td>NaN</td>\n",
       "      <td>TD Bank</td>\n",
       "      <td>254 Canal Street Canal &amp; Lafayette</td>\n",
       "      <td>New York</td>\n",
       "      <td>NY</td>\n",
       "      <td>10013</td>\n",
       "      <td>SG_BRAND_a270529277e11434ce7a40cff6c21217</td>\n",
       "      <td>...</td>\n",
       "      <td>{\"&lt;5\":1,\"5-10\":27,\"11-20\":12,\"21-60\":14,\"61-12...</td>\n",
       "      <td>{\"Exxon Mobil\":24,\"Duane Reade by Walgreens\":20}</td>\n",
       "      <td>{\"Starbucks\":34,\"Dunkin'\":28,\"McDonald's\":22,\"...</td>\n",
       "      <td>[0,0,0,0,0,0,0,1,3,5,8,13,15,11,12,12,11,8,5,2...</td>\n",
       "      <td>{\"Monday\":8,\"Tuesday\":10,\"Wednesday\":6,\"Thursd...</td>\n",
       "      <td>{\"android\":24,\"ios\":28}</td>\n",
       "      <td>254 Canal Street Canal &amp; Lafayette, New York, ...</td>\n",
       "      <td>40.718453</td>\n",
       "      <td>-74.000844</td>\n",
       "      <td>40.7184528, -74.0008438</td>\n",
       "    </tr>\n",
       "  </tbody>\n",
       "</table>\n",
       "<p>5 rows × 32 columns</p>\n",
       "</div>"
      ],
      "text/plain": [
       "              placekey                   safegraph_place_id parent_placekey  \\\n",
       "0  222-222@65y-sj9-yd9  sg:01666dfc30a349b68859cdadc4420088             NaN   \n",
       "1  222-222@63q-r6s-hbk  sg:86f6bcbe916446579f45c820b7fd7795             NaN   \n",
       "2  22j-222@627-tdt-m49  sg:86f2e03fbf81414d91aae9bae28ed5cc             NaN   \n",
       "3  228-222@65z-jqt-4jv  sg:1497683ee48c478daf1418dafb1bdf74             NaN   \n",
       "4  zzy-226@627-wc7-9pv  sg:4dc3d15e657b4c7c8badd08e31692f82             NaN   \n",
       "\n",
       "  parent_safegraph_place_id        location_name  \\\n",
       "0                       NaN        Citizens Bank   \n",
       "1                       NaN   Bath National Bank   \n",
       "2                       NaN  Roslyn Savings Bank   \n",
       "3                       NaN       Community Bank   \n",
       "4                       NaN              TD Bank   \n",
       "\n",
       "                       street_address          city region  postal_code  \\\n",
       "0                     1 Municipal Plz  Clifton Park     NY        12065   \n",
       "1                    7434 Seneca Rd N       Hornell     NY        14843   \n",
       "2                       160 S Main St      Freeport     NY        11520   \n",
       "3                  104 S Peterboro St     Canastota     NY        13032   \n",
       "4  254 Canal Street Canal & Lafayette      New York     NY        10013   \n",
       "\n",
       "                         safegraph_brand_ids  ...  \\\n",
       "0  SG_BRAND_f58dee45923c7d70f0bf747fee3f4b97  ...   \n",
       "1                                        NaN  ...   \n",
       "2                                        NaN  ...   \n",
       "3  SG_BRAND_4bc55c30e696d18d0a971b7a84aa2ea2  ...   \n",
       "4  SG_BRAND_a270529277e11434ce7a40cff6c21217  ...   \n",
       "\n",
       "                                bucketed_dwell_times  \\\n",
       "0  {\"<5\":6,\"5-10\":53,\"11-20\":2,\"21-60\":4,\"61-120\"...   \n",
       "1  {\"<5\":7,\"5-10\":38,\"11-20\":3,\"21-60\":8,\"61-120\"...   \n",
       "2  {\"<5\":0,\"5-10\":3,\"11-20\":0,\"21-60\":0,\"61-120\":...   \n",
       "3  {\"<5\":4,\"5-10\":23,\"11-20\":1,\"21-60\":0,\"61-120\"...   \n",
       "4  {\"<5\":1,\"5-10\":27,\"11-20\":12,\"21-60\":14,\"61-12...   \n",
       "\n",
       "                              related_same_day_brand  \\\n",
       "0  {\"Planet Fitness\":49,\"Stewart's Shops\":25,\"Pan...   \n",
       "1   {\"Advance Auto Parts\":66,\"Mobil\":33,\"Subway\":24}   \n",
       "2    {\"BJ's Wholesale Club\":100,\"Jersey Mike's\":100}   \n",
       "3                              {\"Cellular Sales\":50}   \n",
       "4   {\"Exxon Mobil\":24,\"Duane Reade by Walgreens\":20}   \n",
       "\n",
       "                            related_same_month_brand  \\\n",
       "0  {\"Stewart's Shops\":68,\"Shoppers World\":47,\"McD...   \n",
       "1  {\"Wegmans Food Markets\":67,\"Kwik Fill\":57,\"Wal...   \n",
       "2  {\"CVS\":95,\"Sunoco\":72,\"Dunkin'\":71,\"Subway\":68...   \n",
       "3  {\"SavOn\":71,\"Walmart\":58,\"McDonald's\":52,\"Dunk...   \n",
       "4  {\"Starbucks\":34,\"Dunkin'\":28,\"McDonald's\":22,\"...   \n",
       "\n",
       "                                  popularity_by_hour  \\\n",
       "0  [0,0,0,0,0,0,0,0,3,6,11,13,12,6,9,11,3,5,2,0,0...   \n",
       "1  [0,0,0,0,0,0,0,0,4,8,13,9,16,13,10,18,8,4,5,1,...   \n",
       "2  [0,0,0,0,0,0,0,0,4,5,5,5,3,1,2,1,1,0,0,0,0,0,0,0]   \n",
       "3  [0,0,0,0,0,0,0,0,2,3,4,5,5,5,3,2,1,0,0,0,0,0,0,0]   \n",
       "4  [0,0,0,0,0,0,0,1,3,5,8,13,15,11,12,12,11,8,5,2...   \n",
       "\n",
       "                                   popularity_by_day              device_type  \\\n",
       "0  {\"Monday\":8,\"Tuesday\":10,\"Wednesday\":8,\"Thursd...  {\"android\":20,\"ios\":29}   \n",
       "1  {\"Monday\":11,\"Tuesday\":3,\"Wednesday\":7,\"Thursd...  {\"android\":17,\"ios\":21}   \n",
       "2  {\"Monday\":2,\"Tuesday\":2,\"Wednesday\":1,\"Thursda...    {\"android\":4,\"ios\":0}   \n",
       "3  {\"Monday\":8,\"Tuesday\":2,\"Wednesday\":4,\"Thursda...   {\"android\":10,\"ios\":9}   \n",
       "4  {\"Monday\":8,\"Tuesday\":10,\"Wednesday\":6,\"Thursd...  {\"android\":24,\"ios\":28}   \n",
       "\n",
       "                                             address       lats      longs  \\\n",
       "0           1 Municipal Plz, Clifton Park, NY, 12065  42.863625 -73.786142   \n",
       "1               7434 Seneca Rd N, Hornell, NY, 14843  42.361763 -77.664681   \n",
       "2                 160 S Main St, Freeport, NY, 11520  40.653044 -73.578437   \n",
       "3           104 S Peterboro St, Canastota, NY, 13032  43.078948 -75.751004   \n",
       "4  254 Canal Street Canal & Lafayette, New York, ...  40.718453 -74.000844   \n",
       "\n",
       "                      coordinates  \n",
       "0         42.8636245, -73.7861422  \n",
       "1         42.3617634, -77.6646805  \n",
       "2   40.653044, -73.57843729999999  \n",
       "3  43.0789479, -75.75100359999999  \n",
       "4         40.7184528, -74.0008438  \n",
       "\n",
       "[5 rows x 32 columns]"
      ]
     },
     "execution_count": 3,
     "metadata": {},
     "output_type": "execute_result"
    }
   ],
   "source": [
    "df.head()"
   ]
  },
  {
   "cell_type": "code",
   "execution_count": 4,
   "metadata": {},
   "outputs": [],
   "source": [
    "map_data = pd.DataFrame(zip(df.location_name, df.lats, df.longs))"
   ]
  },
  {
   "cell_type": "code",
   "execution_count": 5,
   "metadata": {},
   "outputs": [
    {
     "data": {
      "text/html": [
       "<div>\n",
       "<style scoped>\n",
       "    .dataframe tbody tr th:only-of-type {\n",
       "        vertical-align: middle;\n",
       "    }\n",
       "\n",
       "    .dataframe tbody tr th {\n",
       "        vertical-align: top;\n",
       "    }\n",
       "\n",
       "    .dataframe thead th {\n",
       "        text-align: right;\n",
       "    }\n",
       "</style>\n",
       "<table border=\"1\" class=\"dataframe\">\n",
       "  <thead>\n",
       "    <tr style=\"text-align: right;\">\n",
       "      <th></th>\n",
       "      <th>0</th>\n",
       "      <th>1</th>\n",
       "      <th>2</th>\n",
       "    </tr>\n",
       "  </thead>\n",
       "  <tbody>\n",
       "    <tr>\n",
       "      <th>0</th>\n",
       "      <td>Citizens Bank</td>\n",
       "      <td>42.863625</td>\n",
       "      <td>-73.786142</td>\n",
       "    </tr>\n",
       "    <tr>\n",
       "      <th>1</th>\n",
       "      <td>Bath National Bank</td>\n",
       "      <td>42.361763</td>\n",
       "      <td>-77.664681</td>\n",
       "    </tr>\n",
       "    <tr>\n",
       "      <th>2</th>\n",
       "      <td>Roslyn Savings Bank</td>\n",
       "      <td>40.653044</td>\n",
       "      <td>-73.578437</td>\n",
       "    </tr>\n",
       "    <tr>\n",
       "      <th>3</th>\n",
       "      <td>Community Bank</td>\n",
       "      <td>43.078948</td>\n",
       "      <td>-75.751004</td>\n",
       "    </tr>\n",
       "    <tr>\n",
       "      <th>4</th>\n",
       "      <td>TD Bank</td>\n",
       "      <td>40.718453</td>\n",
       "      <td>-74.000844</td>\n",
       "    </tr>\n",
       "  </tbody>\n",
       "</table>\n",
       "</div>"
      ],
      "text/plain": [
       "                     0          1          2\n",
       "0        Citizens Bank  42.863625 -73.786142\n",
       "1   Bath National Bank  42.361763 -77.664681\n",
       "2  Roslyn Savings Bank  40.653044 -73.578437\n",
       "3       Community Bank  43.078948 -75.751004\n",
       "4              TD Bank  40.718453 -74.000844"
      ]
     },
     "execution_count": 5,
     "metadata": {},
     "output_type": "execute_result"
    }
   ],
   "source": [
    "map_data.head()"
   ]
  },
  {
   "cell_type": "code",
   "execution_count": 6,
   "metadata": {},
   "outputs": [],
   "source": [
    "map_data = map_data.rename(columns={0: \"location\", 1: \"latitude\", 2: \"longitude\"})"
   ]
  },
  {
   "cell_type": "code",
   "execution_count": 7,
   "metadata": {},
   "outputs": [
    {
     "data": {
      "text/html": [
       "<div>\n",
       "<style scoped>\n",
       "    .dataframe tbody tr th:only-of-type {\n",
       "        vertical-align: middle;\n",
       "    }\n",
       "\n",
       "    .dataframe tbody tr th {\n",
       "        vertical-align: top;\n",
       "    }\n",
       "\n",
       "    .dataframe thead th {\n",
       "        text-align: right;\n",
       "    }\n",
       "</style>\n",
       "<table border=\"1\" class=\"dataframe\">\n",
       "  <thead>\n",
       "    <tr style=\"text-align: right;\">\n",
       "      <th></th>\n",
       "      <th>location</th>\n",
       "      <th>latitude</th>\n",
       "      <th>longitude</th>\n",
       "    </tr>\n",
       "  </thead>\n",
       "  <tbody>\n",
       "    <tr>\n",
       "      <th>0</th>\n",
       "      <td>Citizens Bank</td>\n",
       "      <td>42.863625</td>\n",
       "      <td>-73.786142</td>\n",
       "    </tr>\n",
       "    <tr>\n",
       "      <th>1</th>\n",
       "      <td>Bath National Bank</td>\n",
       "      <td>42.361763</td>\n",
       "      <td>-77.664681</td>\n",
       "    </tr>\n",
       "    <tr>\n",
       "      <th>2</th>\n",
       "      <td>Roslyn Savings Bank</td>\n",
       "      <td>40.653044</td>\n",
       "      <td>-73.578437</td>\n",
       "    </tr>\n",
       "    <tr>\n",
       "      <th>3</th>\n",
       "      <td>Community Bank</td>\n",
       "      <td>43.078948</td>\n",
       "      <td>-75.751004</td>\n",
       "    </tr>\n",
       "    <tr>\n",
       "      <th>4</th>\n",
       "      <td>TD Bank</td>\n",
       "      <td>40.718453</td>\n",
       "      <td>-74.000844</td>\n",
       "    </tr>\n",
       "  </tbody>\n",
       "</table>\n",
       "</div>"
      ],
      "text/plain": [
       "              location   latitude  longitude\n",
       "0        Citizens Bank  42.863625 -73.786142\n",
       "1   Bath National Bank  42.361763 -77.664681\n",
       "2  Roslyn Savings Bank  40.653044 -73.578437\n",
       "3       Community Bank  43.078948 -75.751004\n",
       "4              TD Bank  40.718453 -74.000844"
      ]
     },
     "execution_count": 7,
     "metadata": {},
     "output_type": "execute_result"
    }
   ],
   "source": [
    "map_data.head()"
   ]
  },
  {
   "cell_type": "code",
   "execution_count": 8,
   "metadata": {},
   "outputs": [],
   "source": [
    "map_data.to_csv('map_data.csv', index=False)"
   ]
  },
  {
   "cell_type": "code",
   "execution_count": 9,
   "metadata": {},
   "outputs": [
    {
     "name": "stdout",
     "output_type": "stream",
     "text": [
      "Requirement already satisfied: descartes in /Users/mahiradayal/.pyenv/versions/3.8.2/lib/python3.8/site-packages (1.1.0)\n",
      "Requirement already satisfied: matplotlib in /Users/mahiradayal/.pyenv/versions/3.8.2/lib/python3.8/site-packages (from descartes) (3.3.2)\n",
      "Requirement already satisfied: numpy>=1.15 in /Users/mahiradayal/.pyenv/versions/3.8.2/lib/python3.8/site-packages (from matplotlib->descartes) (1.19.4)\n",
      "Requirement already satisfied: python-dateutil>=2.1 in /Users/mahiradayal/.pyenv/versions/3.8.2/lib/python3.8/site-packages (from matplotlib->descartes) (2.8.1)\n",
      "Requirement already satisfied: pillow>=6.2.0 in /Users/mahiradayal/.pyenv/versions/3.8.2/lib/python3.8/site-packages (from matplotlib->descartes) (8.0.1)\n",
      "Requirement already satisfied: kiwisolver>=1.0.1 in /Users/mahiradayal/.pyenv/versions/3.8.2/lib/python3.8/site-packages (from matplotlib->descartes) (1.3.1)\n",
      "Requirement already satisfied: pyparsing!=2.0.4,!=2.1.2,!=2.1.6,>=2.0.3 in /Users/mahiradayal/.pyenv/versions/3.8.2/lib/python3.8/site-packages (from matplotlib->descartes) (2.4.7)\n",
      "Requirement already satisfied: certifi>=2020.06.20 in /Users/mahiradayal/.pyenv/versions/3.8.2/lib/python3.8/site-packages (from matplotlib->descartes) (2020.6.20)\n",
      "Requirement already satisfied: cycler>=0.10 in /Users/mahiradayal/.pyenv/versions/3.8.2/lib/python3.8/site-packages (from matplotlib->descartes) (0.10.0)\n",
      "Requirement already satisfied: six in /Users/mahiradayal/.pyenv/versions/3.8.2/lib/python3.8/site-packages (from cycler>=0.10->matplotlib->descartes) (1.15.0)\n",
      "Requirement already satisfied: six in /Users/mahiradayal/.pyenv/versions/3.8.2/lib/python3.8/site-packages (from cycler>=0.10->matplotlib->descartes) (1.15.0)\n",
      "\u001b[33mWARNING: You are using pip version 20.3; however, version 21.1.1 is available.\n",
      "You should consider upgrading via the '/Users/mahiradayal/.pyenv/versions/3.8.2/bin/python3.8 -m pip install --upgrade pip' command.\u001b[0m\n",
      "Requirement already satisfied: geopandas in /Users/mahiradayal/.pyenv/versions/3.8.2/lib/python3.8/site-packages (0.9.0)\n",
      "Requirement already satisfied: fiona>=1.8 in /Users/mahiradayal/.pyenv/versions/3.8.2/lib/python3.8/site-packages (from geopandas) (1.8.19)\n",
      "Requirement already satisfied: pandas>=0.24.0 in /Users/mahiradayal/.pyenv/versions/3.8.2/lib/python3.8/site-packages (from geopandas) (1.1.4)\n",
      "Requirement already satisfied: pyproj>=2.2.0 in /Users/mahiradayal/.pyenv/versions/3.8.2/lib/python3.8/site-packages (from geopandas) (3.0.1)\n",
      "Requirement already satisfied: shapely>=1.6 in /Users/mahiradayal/.pyenv/versions/3.8.2/lib/python3.8/site-packages (from geopandas) (1.7.1)\n",
      "Requirement already satisfied: click-plugins>=1.0 in /Users/mahiradayal/.pyenv/versions/3.8.2/lib/python3.8/site-packages (from fiona>=1.8->geopandas) (1.1.1)\n",
      "Requirement already satisfied: click<8,>=4.0 in /Users/mahiradayal/.pyenv/versions/3.8.2/lib/python3.8/site-packages (from fiona>=1.8->geopandas) (7.1.2)\n",
      "Requirement already satisfied: munch in /Users/mahiradayal/.pyenv/versions/3.8.2/lib/python3.8/site-packages (from fiona>=1.8->geopandas) (2.5.0)\n",
      "Requirement already satisfied: cligj>=0.5 in /Users/mahiradayal/.pyenv/versions/3.8.2/lib/python3.8/site-packages (from fiona>=1.8->geopandas) (0.7.1)\n",
      "Requirement already satisfied: attrs>=17 in /Users/mahiradayal/.pyenv/versions/3.8.2/lib/python3.8/site-packages (from fiona>=1.8->geopandas) (20.2.0)\n",
      "Requirement already satisfied: six>=1.7 in /Users/mahiradayal/.pyenv/versions/3.8.2/lib/python3.8/site-packages (from fiona>=1.8->geopandas) (1.15.0)\n",
      "Requirement already satisfied: certifi in /Users/mahiradayal/.pyenv/versions/3.8.2/lib/python3.8/site-packages (from fiona>=1.8->geopandas) (2020.6.20)\n",
      "Requirement already satisfied: click<8,>=4.0 in /Users/mahiradayal/.pyenv/versions/3.8.2/lib/python3.8/site-packages (from fiona>=1.8->geopandas) (7.1.2)\n",
      "Requirement already satisfied: click<8,>=4.0 in /Users/mahiradayal/.pyenv/versions/3.8.2/lib/python3.8/site-packages (from fiona>=1.8->geopandas) (7.1.2)\n",
      "Requirement already satisfied: six>=1.7 in /Users/mahiradayal/.pyenv/versions/3.8.2/lib/python3.8/site-packages (from fiona>=1.8->geopandas) (1.15.0)\n",
      "Requirement already satisfied: numpy>=1.15.4 in /Users/mahiradayal/.pyenv/versions/3.8.2/lib/python3.8/site-packages (from pandas>=0.24.0->geopandas) (1.19.4)\n",
      "Requirement already satisfied: python-dateutil>=2.7.3 in /Users/mahiradayal/.pyenv/versions/3.8.2/lib/python3.8/site-packages (from pandas>=0.24.0->geopandas) (2.8.1)\n",
      "Requirement already satisfied: pytz>=2017.2 in /Users/mahiradayal/.pyenv/versions/3.8.2/lib/python3.8/site-packages (from pandas>=0.24.0->geopandas) (2020.4)\n",
      "Requirement already satisfied: certifi in /Users/mahiradayal/.pyenv/versions/3.8.2/lib/python3.8/site-packages (from fiona>=1.8->geopandas) (2020.6.20)\n",
      "Requirement already satisfied: six>=1.7 in /Users/mahiradayal/.pyenv/versions/3.8.2/lib/python3.8/site-packages (from fiona>=1.8->geopandas) (1.15.0)\n",
      "\u001b[33mWARNING: You are using pip version 20.3; however, version 21.1.1 is available.\n",
      "You should consider upgrading via the '/Users/mahiradayal/.pyenv/versions/3.8.2/bin/python3.8 -m pip install --upgrade pip' command.\u001b[0m\n"
     ]
    }
   ],
   "source": [
    "! pip install descartes\n",
    "! pip install geopandas"
   ]
  },
  {
   "cell_type": "code",
   "execution_count": 10,
   "metadata": {},
   "outputs": [],
   "source": [
    "import matplotlib.pyplot as plt\n",
    "import descartes\n",
    "import geopandas as gpd\n",
    "from shapely.geometry import Point, Polygon\n",
    "\n",
    "%matplotlib inline"
   ]
  },
  {
   "cell_type": "code",
   "execution_count": 11,
   "metadata": {},
   "outputs": [],
   "source": [
    "street_map = gpd.read_file('/Users/mahiradayal/masters_project/bank_data/ZIP_CODE_040114/ZIP_CODE_040114.shp')"
   ]
  },
  {
   "cell_type": "code",
   "execution_count": 12,
   "metadata": {},
   "outputs": [
    {
     "data": {
      "text/plain": [
       "<AxesSubplot:>"
      ]
     },
     "execution_count": 12,
     "metadata": {},
     "output_type": "execute_result"
    },
    {
     "data": {
      "image/png": "[encoded data removed]",
      "text/plain": [
       "<Figure size 576x1224 with 1 Axes>"
      ]
     },
     "metadata": {
      "needs_background": "light"
     },
     "output_type": "display_data"
    }
   ],
   "source": [
    "fig,ax = plt.subplots(figsize = (8,17))\n",
    "street_map.plot(ax = ax)"
   ]
  },
  {
   "cell_type": "code",
   "execution_count": 13,
   "metadata": {},
   "outputs": [],
   "source": [
    "df = pd.read_csv('/Users/mahiradayal/masters_project/map_data.csv')"
   ]
  },
  {
   "cell_type": "code",
   "execution_count": 14,
   "metadata": {},
   "outputs": [
    {
     "data": {
      "text/html": [
       "<div>\n",
       "<style scoped>\n",
       "    .dataframe tbody tr th:only-of-type {\n",
       "        vertical-align: middle;\n",
       "    }\n",
       "\n",
       "    .dataframe tbody tr th {\n",
       "        vertical-align: top;\n",
       "    }\n",
       "\n",
       "    .dataframe thead th {\n",
       "        text-align: right;\n",
       "    }\n",
       "</style>\n",
       "<table border=\"1\" class=\"dataframe\">\n",
       "  <thead>\n",
       "    <tr style=\"text-align: right;\">\n",
       "      <th></th>\n",
       "      <th>location</th>\n",
       "      <th>latitude</th>\n",
       "      <th>longitude</th>\n",
       "    </tr>\n",
       "  </thead>\n",
       "  <tbody>\n",
       "    <tr>\n",
       "      <th>0</th>\n",
       "      <td>Citizens Bank</td>\n",
       "      <td>42.863625</td>\n",
       "      <td>-73.786142</td>\n",
       "    </tr>\n",
       "    <tr>\n",
       "      <th>1</th>\n",
       "      <td>Bath National Bank</td>\n",
       "      <td>42.361763</td>\n",
       "      <td>-77.664681</td>\n",
       "    </tr>\n",
       "  </tbody>\n",
       "</table>\n",
       "</div>"
      ],
      "text/plain": [
       "             location   latitude  longitude\n",
       "0       Citizens Bank  42.863625 -73.786142\n",
       "1  Bath National Bank  42.361763 -77.664681"
      ]
     },
     "execution_count": 14,
     "metadata": {},
     "output_type": "execute_result"
    }
   ],
   "source": [
    "crs = {'init': 'epsg:4326'}\n",
    "df.head(2)"
   ]
  },
  {
   "cell_type": "code",
   "execution_count": 25,
   "metadata": {
    "scrolled": true
   },
   "outputs": [
    {
     "data": {
      "text/plain": [
       "[<shapely.geometry.point.Point at 0x124b59640>,\n",
       " <shapely.geometry.point.Point at 0x124b5b0a0>]"
      ]
     },
     "execution_count": 25,
     "metadata": {},
     "output_type": "execute_result"
    }
   ],
   "source": [
    "geometry = [Point(xy) for xy in zip( df['latitude'], df['longitude'])]\n",
    "geometry[:2]"
   ]
  },
  {
   "cell_type": "code",
   "execution_count": 26,
   "metadata": {},
   "outputs": [],
   "source": [
    "geo_df = gpd.GeoDataFrame(df, \n",
    "                          crs = crs, \n",
    "                          geometry = geometry)"
   ]
  },
  {
   "cell_type": "code",
   "execution_count": 49,
   "metadata": {},
   "outputs": [
    {
     "name": "stderr",
     "output_type": "stream",
     "text": [
      "No handles with labels found to put in legend.\n"
     ]
    },
    {
     "data": {
      "text/plain": [
       "<matplotlib.legend.Legend at 0x1254a9e50>"
      ]
     },
     "execution_count": 49,
     "metadata": {},
     "output_type": "execute_result"
    },
    {
     "data": {
      "image/png": "[encoded data removed]",
      "text/plain": [
       "<Figure size 576x1224 with 1 Axes>"
      ]
     },
     "metadata": {
      "needs_background": "light"
     },
     "output_type": "display_data"
    }
   ],
   "source": [
    "fig, ax = plt.subplots(figsize = (8,17))\n",
    "street_map.plot(ax = ax, alpha = 0.8, color='grey')\n",
    "geo_df.geometry.plot(ax = ax, markersize = .9, color = 'grey')\n",
    "plt.legend(prop={'size': 15})"
   ]
  },
  {
   "cell_type": "code",
   "execution_count": null,
   "metadata": {},
   "outputs": [],
   "source": []
  }
 ],
 "metadata": {
  "kernelspec": {
   "display_name": "Python 3",
   "language": "python",
   "name": "python3"
  },
  "language_info": {
   "codemirror_mode": {
    "name": "ipython",
    "version": 3
   },
   "file_extension": ".py",
   "mimetype": "text/x-python",
   "name": "python",
   "nbconvert_exporter": "python",
   "pygments_lexer": "ipython3",
   "version": "3.8.2"
  }
 },
 "nbformat": 4,
 "nbformat_minor": 4
}
