{
  "nbformat": 4,
  "nbformat_minor": 0,
  "metadata": {
    "colab": {
      "name": "census_analysis_banks",
      "provenance": [],
      "collapsed_sections": []
    },
    "kernelspec": {
      "display_name": "Python 3",
      "name": "python3"
    },
    "language_info": {
      "name": "python"
    }
  },
  "cells": [
    {
      "cell_type": "code",
      "metadata": {
        "colab": {
          "base_uri": "https://localhost:8080/"
        },
        "id": "02_9LcEkJk2c",
        "outputId": "c1c2243c-2d32-4083-f8b5-180402bb1453"
      },
      "source": [
        "import pandas as pd\n",
        "import numpy as np\n",
        "import altair as alt\n",
        "!pip install geopandas\n",
        "import geopandas as gpd\n",
        "!pip install cenpy\n",
        "import cenpy as cen\n",
        "from getpass import getpass"
      ],
      "execution_count": null,
      "outputs": [
        {
          "output_type": "stream",
          "text": [
            "Requirement already satisfied: geopandas in /usr/local/lib/python3.7/dist-packages (0.9.0)\n",
            "Requirement already satisfied: shapely>=1.6 in /usr/local/lib/python3.7/dist-packages (from geopandas) (1.7.1)\n",
            "Requirement already satisfied: fiona>=1.8 in /usr/local/lib/python3.7/dist-packages (from geopandas) (1.8.20)\n",
            "Requirement already satisfied: pandas>=0.24.0 in /usr/local/lib/python3.7/dist-packages (from geopandas) (1.1.5)\n",
            "Requirement already satisfied: pyproj>=2.2.0 in /usr/local/lib/python3.7/dist-packages (from geopandas) (3.1.0)\n",
            "Requirement already satisfied: click>=4.0 in /usr/local/lib/python3.7/dist-packages (from fiona>=1.8->geopandas) (7.1.2)\n",
            "Requirement already satisfied: cligj>=0.5 in /usr/local/lib/python3.7/dist-packages (from fiona>=1.8->geopandas) (0.7.2)\n",
            "Requirement already satisfied: setuptools in /usr/local/lib/python3.7/dist-packages (from fiona>=1.8->geopandas) (57.2.0)\n",
            "Requirement already satisfied: six>=1.7 in /usr/local/lib/python3.7/dist-packages (from fiona>=1.8->geopandas) (1.15.0)\n",
            "Requirement already satisfied: click-plugins>=1.0 in /usr/local/lib/python3.7/dist-packages (from fiona>=1.8->geopandas) (1.1.1)\n",
            "Requirement already satisfied: munch in /usr/local/lib/python3.7/dist-packages (from fiona>=1.8->geopandas) (2.5.0)\n",
            "Requirement already satisfied: certifi in /usr/local/lib/python3.7/dist-packages (from fiona>=1.8->geopandas) (2021.5.30)\n",
            "Requirement already satisfied: attrs>=17 in /usr/local/lib/python3.7/dist-packages (from fiona>=1.8->geopandas) (21.2.0)\n",
            "Requirement already satisfied: python-dateutil>=2.7.3 in /usr/local/lib/python3.7/dist-packages (from pandas>=0.24.0->geopandas) (2.8.1)\n",
            "Requirement already satisfied: numpy>=1.15.4 in /usr/local/lib/python3.7/dist-packages (from pandas>=0.24.0->geopandas) (1.19.5)\n",
            "Requirement already satisfied: pytz>=2017.2 in /usr/local/lib/python3.7/dist-packages (from pandas>=0.24.0->geopandas) (2018.9)\n",
            "Requirement already satisfied: cenpy in /usr/local/lib/python3.7/dist-packages (1.0.0.post4)\n",
            "Requirement already satisfied: pandas in /usr/local/lib/python3.7/dist-packages (from cenpy) (1.1.5)\n",
            "Requirement already satisfied: requests in /usr/local/lib/python3.7/dist-packages (from cenpy) (2.23.0)\n",
            "Requirement already satisfied: geopandas in /usr/local/lib/python3.7/dist-packages (from cenpy) (0.9.0)\n",
            "Requirement already satisfied: fuzzywuzzy in /usr/local/lib/python3.7/dist-packages (from cenpy) (0.18.0)\n",
            "Requirement already satisfied: six in /usr/local/lib/python3.7/dist-packages (from cenpy) (1.15.0)\n",
            "Requirement already satisfied: libpysal in /usr/local/lib/python3.7/dist-packages (from cenpy) (4.5.1)\n",
            "Requirement already satisfied: numpy in /usr/local/lib/python3.7/dist-packages (from cenpy) (1.19.5)\n",
            "Requirement already satisfied: rtree in /usr/local/lib/python3.7/dist-packages (from cenpy) (0.9.7)\n",
            "Requirement already satisfied: pyproj>=2.2.0 in /usr/local/lib/python3.7/dist-packages (from geopandas->cenpy) (3.1.0)\n",
            "Requirement already satisfied: fiona>=1.8 in /usr/local/lib/python3.7/dist-packages (from geopandas->cenpy) (1.8.20)\n",
            "Requirement already satisfied: shapely>=1.6 in /usr/local/lib/python3.7/dist-packages (from geopandas->cenpy) (1.7.1)\n",
            "Requirement already satisfied: cligj>=0.5 in /usr/local/lib/python3.7/dist-packages (from fiona>=1.8->geopandas->cenpy) (0.7.2)\n",
            "Requirement already satisfied: certifi in /usr/local/lib/python3.7/dist-packages (from fiona>=1.8->geopandas->cenpy) (2021.5.30)\n",
            "Requirement already satisfied: munch in /usr/local/lib/python3.7/dist-packages (from fiona>=1.8->geopandas->cenpy) (2.5.0)\n",
            "Requirement already satisfied: click-plugins>=1.0 in /usr/local/lib/python3.7/dist-packages (from fiona>=1.8->geopandas->cenpy) (1.1.1)\n",
            "Requirement already satisfied: setuptools in /usr/local/lib/python3.7/dist-packages (from fiona>=1.8->geopandas->cenpy) (57.2.0)\n",
            "Requirement already satisfied: attrs>=17 in /usr/local/lib/python3.7/dist-packages (from fiona>=1.8->geopandas->cenpy) (21.2.0)\n",
            "Requirement already satisfied: click>=4.0 in /usr/local/lib/python3.7/dist-packages (from fiona>=1.8->geopandas->cenpy) (7.1.2)\n",
            "Requirement already satisfied: pytz>=2017.2 in /usr/local/lib/python3.7/dist-packages (from pandas->cenpy) (2018.9)\n",
            "Requirement already satisfied: python-dateutil>=2.7.3 in /usr/local/lib/python3.7/dist-packages (from pandas->cenpy) (2.8.1)\n",
            "Requirement already satisfied: scipy>=0.11 in /usr/local/lib/python3.7/dist-packages (from libpysal->cenpy) (1.4.1)\n",
            "Requirement already satisfied: beautifulsoup4 in /usr/local/lib/python3.7/dist-packages (from libpysal->cenpy) (4.6.3)\n",
            "Requirement already satisfied: jinja2 in /usr/local/lib/python3.7/dist-packages (from libpysal->cenpy) (2.11.3)\n",
            "Requirement already satisfied: MarkupSafe>=0.23 in /usr/local/lib/python3.7/dist-packages (from jinja2->libpysal->cenpy) (2.0.1)\n",
            "Requirement already satisfied: idna<3,>=2.5 in /usr/local/lib/python3.7/dist-packages (from requests->cenpy) (2.10)\n",
            "Requirement already satisfied: chardet<4,>=3.0.2 in /usr/local/lib/python3.7/dist-packages (from requests->cenpy) (3.0.4)\n",
            "Requirement already satisfied: urllib3!=1.25.0,!=1.25.1,<1.26,>=1.21.1 in /usr/local/lib/python3.7/dist-packages (from requests->cenpy) (1.24.3)\n"
          ],
          "name": "stdout"
        },
        {
          "output_type": "stream",
          "text": [
            "/usr/local/lib/python3.7/dist-packages/fuzzywuzzy/fuzz.py:11: UserWarning: Using slow pure-python SequenceMatcher. Install python-Levenshtein to remove this warning\n",
            "  warnings.warn('Using slow pure-python SequenceMatcher. Install python-Levenshtein to remove this warning')\n"
          ],
          "name": "stderr"
        }
      ]
    },
    {
      "cell_type": "code",
      "metadata": {
        "id": "WEHuu9A_JpLD"
      },
      "source": [
        "# from google.colab import files\n",
        "\n",
        "# uploaded = files.upload()\n",
        "\n",
        "# for fn in uploaded.keys():\n",
        "#   print('User uploaded file \"{name}\" with length {length} bytes'.format(\n",
        "#       name=fn, length=len(uploaded[fn])))"
      ],
      "execution_count": null,
      "outputs": []
    },
    {
      "cell_type": "code",
      "metadata": {
        "id": "_jIlED6OJ3nO"
      },
      "source": [
        "# Read in data of ALL banks in the country in 2020. Ran this through Google Maps API separately and have coords\n",
        "\n",
        "df = pd.read_csv(\"ALL_2020.csv\", encoding=\"ISO-8859-1\", engine=\"python\")\n",
        "pd.set_option('display.max_columns', None)"
      ],
      "execution_count": null,
      "outputs": []
    },
    {
      "cell_type": "code",
      "metadata": {
        "id": "dqh0di0sK24P"
      },
      "source": [
        "df['ZIPBR'] = df['ZIPBR'].apply(str)\n",
        "\n",
        "# Concat address columns together\n",
        "\n",
        "df['ADDRESS_FULL'] = df['ADDRESBR'].str.cat(\n",
        "    df['CITYBR'],sep=\", \").str.cat(\n",
        "    df['STALPBR'],sep=\", \").str.cat(\n",
        "    df['ZIPBR'],sep=\", \")"
      ],
      "execution_count": null,
      "outputs": []
    },
    {
      "cell_type": "code",
      "metadata": {
        "id": "TKcuRdu9LH1W"
      },
      "source": [
        "#df.head(2)"
      ],
      "execution_count": null,
      "outputs": []
    },
    {
      "cell_type": "code",
      "metadata": {
        "id": "Uc4-GPm9LJL1",
        "colab": {
          "base_uri": "https://localhost:8080/"
        },
        "outputId": "69c45421-82f6-41b8-c518-004b456e8219"
      },
      "source": [
        "CENSUS_API_KEY = getpass('Enter your Census API Key: ')"
      ],
      "execution_count": null,
      "outputs": [
        {
          "output_type": "stream",
          "text": [
            "Enter your Census API Key: ··········\n"
          ],
          "name": "stdout"
        }
      ]
    },
    {
      "cell_type": "code",
      "metadata": {
        "id": "BNrvxYU7Lo9B",
        "colab": {
          "base_uri": "https://localhost:8080/"
        },
        "outputId": "1f8113b8-62cb-43c5-f0dd-6a0f2967c2e8"
      },
      "source": [
        "# I'm searching for population and income per county. \n",
        "\n",
        "availableTables = cen.explorer.available()\n",
        "print(f\"The API offers access to {len(availableTables)} datasets\")"
      ],
      "execution_count": null,
      "outputs": [
        {
          "output_type": "stream",
          "text": [
            "The API offers access to 653 datasets\n"
          ],
          "name": "stdout"
        }
      ]
    },
    {
      "cell_type": "code",
      "metadata": {
        "id": "uXZiXUgyMS_W"
      },
      "source": [
        "acs = cen.products.ACS()"
      ],
      "execution_count": null,
      "outputs": []
    },
    {
      "cell_type": "code",
      "metadata": {
        "id": "4Uls5zHjMVAq",
        "colab": {
          "base_uri": "https://localhost:8080/",
          "height": 595
        },
        "outputId": "045b6223-a9f5-4feb-b651-9bfa4291b1e3"
      },
      "source": [
        "acs.filter_tables('POPULATION', by='description')"
      ],
      "execution_count": null,
      "outputs": [
        {
          "output_type": "execute_result",
          "data": {
            "text/html": [
              "<div>\n",
              "<style scoped>\n",
              "    .dataframe tbody tr th:only-of-type {\n",
              "        vertical-align: middle;\n",
              "    }\n",
              "\n",
              "    .dataframe tbody tr th {\n",
              "        vertical-align: top;\n",
              "    }\n",
              "\n",
              "    .dataframe thead th {\n",
              "        text-align: right;\n",
              "    }\n",
              "</style>\n",
              "<table border=\"1\" class=\"dataframe\">\n",
              "  <thead>\n",
              "    <tr style=\"text-align: right;\">\n",
              "      <th></th>\n",
              "      <th>description</th>\n",
              "      <th>columns</th>\n",
              "    </tr>\n",
              "    <tr>\n",
              "      <th>table_name</th>\n",
              "      <th></th>\n",
              "      <th></th>\n",
              "    </tr>\n",
              "  </thead>\n",
              "  <tbody>\n",
              "    <tr>\n",
              "      <th>B00001</th>\n",
              "      <td>UNWEIGHTED SAMPLE COUNT OF THE POPULATION</td>\n",
              "      <td>[B00001_001E]</td>\n",
              "    </tr>\n",
              "    <tr>\n",
              "      <th>B01003</th>\n",
              "      <td>TOTAL POPULATION</td>\n",
              "      <td>[B01003_001E]</td>\n",
              "    </tr>\n",
              "    <tr>\n",
              "      <th>B05006</th>\n",
              "      <td>PLACE OF BIRTH FOR THE FOREIGN-BORN POPULATION...</td>\n",
              "      <td>[B05006_001E, B05006_002E, B05006_003E, B05006...</td>\n",
              "    </tr>\n",
              "    <tr>\n",
              "      <th>B05007</th>\n",
              "      <td>PLACE OF BIRTH BY YEAR OF ENTRY BY CITIZENSHIP...</td>\n",
              "      <td>[B05007_001E, B05007_002E, B05007_003E, B05007...</td>\n",
              "    </tr>\n",
              "    <tr>\n",
              "      <th>B05008</th>\n",
              "      <td>SEX BY PLACE OF BIRTH BY YEAR OF ENTRY FOR THE...</td>\n",
              "      <td>[B05008_001E, B05008_002E, B05008_003E, B05008...</td>\n",
              "    </tr>\n",
              "    <tr>\n",
              "      <th>...</th>\n",
              "      <td>...</td>\n",
              "      <td>...</td>\n",
              "    </tr>\n",
              "    <tr>\n",
              "      <th>C24030</th>\n",
              "      <td>SEX BY INDUSTRY FOR THE CIVILIAN EMPLOYED POPU...</td>\n",
              "      <td>[C24030_001E, C24030_002E, C24030_003E, C24030...</td>\n",
              "    </tr>\n",
              "    <tr>\n",
              "      <th>C24040</th>\n",
              "      <td>SEX BY INDUSTRY FOR THE FULL-TIME, YEAR-ROUND ...</td>\n",
              "      <td>[C24040_001E, C24040_002E, C24040_003E, C24040...</td>\n",
              "    </tr>\n",
              "    <tr>\n",
              "      <th>C24050</th>\n",
              "      <td>INDUSTRY BY OCCUPATION FOR THE CIVILIAN  EMPLO...</td>\n",
              "      <td>[C24050_001E, C24050_002E, C24050_003E, C24050...</td>\n",
              "    </tr>\n",
              "    <tr>\n",
              "      <th>C24060</th>\n",
              "      <td>OCCUPATION BY CLASS OF WORKER FOR THE CIVILIAN...</td>\n",
              "      <td>[C24060_001E, C24060_002E, C24060_003E, C24060...</td>\n",
              "    </tr>\n",
              "    <tr>\n",
              "      <th>C24070</th>\n",
              "      <td>INDUSTRY BY CLASS OF WORKER FOR THE CIVILIAN E...</td>\n",
              "      <td>[C24070_001E, C24070_002E, C24070_003E, C24070...</td>\n",
              "    </tr>\n",
              "  </tbody>\n",
              "</table>\n",
              "<p>136 rows × 2 columns</p>\n",
              "</div>"
            ],
            "text/plain": [
              "                                                  description  \\\n",
              "table_name                                                      \n",
              "B00001              UNWEIGHTED SAMPLE COUNT OF THE POPULATION   \n",
              "B01003                                       TOTAL POPULATION   \n",
              "B05006      PLACE OF BIRTH FOR THE FOREIGN-BORN POPULATION...   \n",
              "B05007      PLACE OF BIRTH BY YEAR OF ENTRY BY CITIZENSHIP...   \n",
              "B05008      SEX BY PLACE OF BIRTH BY YEAR OF ENTRY FOR THE...   \n",
              "...                                                       ...   \n",
              "C24030      SEX BY INDUSTRY FOR THE CIVILIAN EMPLOYED POPU...   \n",
              "C24040      SEX BY INDUSTRY FOR THE FULL-TIME, YEAR-ROUND ...   \n",
              "C24050      INDUSTRY BY OCCUPATION FOR THE CIVILIAN  EMPLO...   \n",
              "C24060      OCCUPATION BY CLASS OF WORKER FOR THE CIVILIAN...   \n",
              "C24070      INDUSTRY BY CLASS OF WORKER FOR THE CIVILIAN E...   \n",
              "\n",
              "                                                      columns  \n",
              "table_name                                                     \n",
              "B00001                                          [B00001_001E]  \n",
              "B01003                                          [B01003_001E]  \n",
              "B05006      [B05006_001E, B05006_002E, B05006_003E, B05006...  \n",
              "B05007      [B05007_001E, B05007_002E, B05007_003E, B05007...  \n",
              "B05008      [B05008_001E, B05008_002E, B05008_003E, B05008...  \n",
              "...                                                       ...  \n",
              "C24030      [C24030_001E, C24030_002E, C24030_003E, C24030...  \n",
              "C24040      [C24040_001E, C24040_002E, C24040_003E, C24040...  \n",
              "C24050      [C24050_001E, C24050_002E, C24050_003E, C24050...  \n",
              "C24060      [C24060_001E, C24060_002E, C24060_003E, C24060...  \n",
              "C24070      [C24070_001E, C24070_002E, C24070_003E, C24070...  \n",
              "\n",
              "[136 rows x 2 columns]"
            ]
          },
          "metadata": {
            "tags": []
          },
          "execution_count": 28
        }
      ]
    },
    {
      "cell_type": "code",
      "metadata": {
        "id": "PJq1jrPtMfG0",
        "colab": {
          "base_uri": "https://localhost:8080/",
          "height": 115
        },
        "outputId": "7ba93f25-3b56-4d13-9335-bad365282b1b"
      },
      "source": [
        "acs.filter_variables('B01003')"
      ],
      "execution_count": null,
      "outputs": [
        {
          "output_type": "execute_result",
          "data": {
            "text/html": [
              "<div>\n",
              "<style scoped>\n",
              "    .dataframe tbody tr th:only-of-type {\n",
              "        vertical-align: middle;\n",
              "    }\n",
              "\n",
              "    .dataframe tbody tr th {\n",
              "        vertical-align: top;\n",
              "    }\n",
              "\n",
              "    .dataframe thead th {\n",
              "        text-align: right;\n",
              "    }\n",
              "</style>\n",
              "<table border=\"1\" class=\"dataframe\">\n",
              "  <thead>\n",
              "    <tr style=\"text-align: right;\">\n",
              "      <th></th>\n",
              "      <th>label</th>\n",
              "      <th>concept</th>\n",
              "      <th>predicateType</th>\n",
              "      <th>group</th>\n",
              "      <th>limit</th>\n",
              "      <th>predicateOnly</th>\n",
              "      <th>attributes</th>\n",
              "      <th>required</th>\n",
              "      <th>values</th>\n",
              "    </tr>\n",
              "  </thead>\n",
              "  <tbody>\n",
              "    <tr>\n",
              "      <th>B01003_001E</th>\n",
              "      <td>Estimate!!Total</td>\n",
              "      <td>TOTAL POPULATION</td>\n",
              "      <td>int</td>\n",
              "      <td>B01003</td>\n",
              "      <td>0</td>\n",
              "      <td>NaN</td>\n",
              "      <td>B01003_001EA,B01003_001M,B01003_001MA</td>\n",
              "      <td>NaN</td>\n",
              "      <td>NaN</td>\n",
              "    </tr>\n",
              "  </tbody>\n",
              "</table>\n",
              "</div>"
            ],
            "text/plain": [
              "                       label           concept predicateType   group limit  \\\n",
              "B01003_001E  Estimate!!Total  TOTAL POPULATION           int  B01003     0   \n",
              "\n",
              "            predicateOnly                             attributes required  \\\n",
              "B01003_001E           NaN  B01003_001EA,B01003_001M,B01003_001MA      NaN   \n",
              "\n",
              "            values  \n",
              "B01003_001E    NaN  "
            ]
          },
          "metadata": {
            "tags": []
          },
          "execution_count": 10
        }
      ]
    },
    {
      "cell_type": "code",
      "metadata": {
        "id": "-y7RMCgEMkzW"
      },
      "source": [
        "con = cen.remote.APIConnection('ACSDT5Y2019',apikey=CENSUS_API_KEY)\n",
        "variables = con.variables\n",
        "# Total Population and Median Household Income\n",
        "columns = [\n",
        "    'B01003_001', # Total Population\n",
        "    'B19013_001', # Median Household Income\n",
        "]\n",
        "# Include margins of error in estimate \n",
        "columns_E = [i+'E' for i in columns]\n",
        "columns_M = [i+'M' for i in columns]\n",
        "\n",
        "g_unit = 'county'\n",
        "\n",
        "income = con.query(columns_E + columns_M, geo_unit=g_unit)"
      ],
      "execution_count": null,
      "outputs": []
    },
    {
      "cell_type": "code",
      "metadata": {
        "id": "DzDXXV5mPKTu"
      },
      "source": [
        "# 5 digit FIPS is 2 digit state + 3 digit county\n",
        "\n",
        "income['fips_code'] = income['state'].str.cat(\n",
        "    income['county'])"
      ],
      "execution_count": null,
      "outputs": []
    },
    {
      "cell_type": "code",
      "metadata": {
        "id": "12LQdiqrTQxG"
      },
      "source": [
        "income = income.rename(columns={\"B01003_001E\": \"POPULATION\", \n",
        "                         \"B19013_001E\": \"MEDIAN_HOUSEHOLD_INCOME\", \n",
        "                         \"fips_code\": \"FIPS\"})"
      ],
      "execution_count": null,
      "outputs": []
    },
    {
      "cell_type": "code",
      "metadata": {
        "id": "nRROUCZETSIb"
      },
      "source": [
        "# from google.colab import files\n",
        "\n",
        "# uploaded = files.upload()\n",
        "\n",
        "# for fn in uploaded.keys():\n",
        "#   print('User uploaded file \"{name}\" with length {length} bytes'.format(\n",
        "#       name=fn, length=len(uploaded[fn])))"
      ],
      "execution_count": null,
      "outputs": []
    },
    {
      "cell_type": "code",
      "metadata": {
        "id": "DbbxDjQ8T-4q"
      },
      "source": [
        "# Using crosswalk to add Name and State to census data\n",
        "\n",
        "fips = pd.read_csv(\"fips_codes.csv\")"
      ],
      "execution_count": null,
      "outputs": []
    },
    {
      "cell_type": "code",
      "metadata": {
        "id": "KpLSbs6WTYoS",
        "colab": {
          "base_uri": "https://localhost:8080/",
          "height": 202
        },
        "outputId": "7012b49b-e56f-482a-fa26-31236aa8d0af"
      },
      "source": [
        "fips['FIPS'] = fips['FIPS'].apply(pd.to_numeric)\n",
        "income['FIPS'] = income['FIPS'].apply(pd.to_numeric)\n",
        "fips.head()"
      ],
      "execution_count": null,
      "outputs": [
        {
          "output_type": "execute_result",
          "data": {
            "text/html": [
              "<div>\n",
              "<style scoped>\n",
              "    .dataframe tbody tr th:only-of-type {\n",
              "        vertical-align: middle;\n",
              "    }\n",
              "\n",
              "    .dataframe tbody tr th {\n",
              "        vertical-align: top;\n",
              "    }\n",
              "\n",
              "    .dataframe thead th {\n",
              "        text-align: right;\n",
              "    }\n",
              "</style>\n",
              "<table border=\"1\" class=\"dataframe\">\n",
              "  <thead>\n",
              "    <tr style=\"text-align: right;\">\n",
              "      <th></th>\n",
              "      <th>FIPS</th>\n",
              "      <th>Name</th>\n",
              "      <th>State</th>\n",
              "    </tr>\n",
              "  </thead>\n",
              "  <tbody>\n",
              "    <tr>\n",
              "      <th>0</th>\n",
              "      <td>1001</td>\n",
              "      <td>Autauga</td>\n",
              "      <td>AL</td>\n",
              "    </tr>\n",
              "    <tr>\n",
              "      <th>1</th>\n",
              "      <td>1003</td>\n",
              "      <td>Baldwin</td>\n",
              "      <td>AL</td>\n",
              "    </tr>\n",
              "    <tr>\n",
              "      <th>2</th>\n",
              "      <td>1005</td>\n",
              "      <td>Barbour</td>\n",
              "      <td>AL</td>\n",
              "    </tr>\n",
              "    <tr>\n",
              "      <th>3</th>\n",
              "      <td>1007</td>\n",
              "      <td>Bibb</td>\n",
              "      <td>AL</td>\n",
              "    </tr>\n",
              "    <tr>\n",
              "      <th>4</th>\n",
              "      <td>1009</td>\n",
              "      <td>Blount</td>\n",
              "      <td>AL</td>\n",
              "    </tr>\n",
              "  </tbody>\n",
              "</table>\n",
              "</div>"
            ],
            "text/plain": [
              "   FIPS     Name State\n",
              "0  1001  Autauga    AL\n",
              "1  1003  Baldwin    AL\n",
              "2  1005  Barbour    AL\n",
              "3  1007     Bibb    AL\n",
              "4  1009   Blount    AL"
            ]
          },
          "metadata": {
            "tags": []
          },
          "execution_count": 16
        }
      ]
    },
    {
      "cell_type": "code",
      "metadata": {
        "id": "4AEe84apTi8F",
        "colab": {
          "base_uri": "https://localhost:8080/",
          "height": 222
        },
        "outputId": "a29604b6-092e-42d6-ce6b-94df5f2c2604"
      },
      "source": [
        "#income = income.drop(['B01003_001M', 'B19013_001M'], axis = 1)\n",
        "income_fips = fips.merge(income, on='FIPS', how='left')\n",
        "income_fips.head()"
      ],
      "execution_count": null,
      "outputs": [
        {
          "output_type": "execute_result",
          "data": {
            "text/html": [
              "<div>\n",
              "<style scoped>\n",
              "    .dataframe tbody tr th:only-of-type {\n",
              "        vertical-align: middle;\n",
              "    }\n",
              "\n",
              "    .dataframe tbody tr th {\n",
              "        vertical-align: top;\n",
              "    }\n",
              "\n",
              "    .dataframe thead th {\n",
              "        text-align: right;\n",
              "    }\n",
              "</style>\n",
              "<table border=\"1\" class=\"dataframe\">\n",
              "  <thead>\n",
              "    <tr style=\"text-align: right;\">\n",
              "      <th></th>\n",
              "      <th>FIPS</th>\n",
              "      <th>Name</th>\n",
              "      <th>State</th>\n",
              "      <th>POPULATION</th>\n",
              "      <th>MEDIAN_HOUSEHOLD_INCOME</th>\n",
              "      <th>B01003_001M</th>\n",
              "      <th>B19013_001M</th>\n",
              "      <th>state</th>\n",
              "      <th>county</th>\n",
              "    </tr>\n",
              "  </thead>\n",
              "  <tbody>\n",
              "    <tr>\n",
              "      <th>0</th>\n",
              "      <td>1001</td>\n",
              "      <td>Autauga</td>\n",
              "      <td>AL</td>\n",
              "      <td>55380</td>\n",
              "      <td>58731</td>\n",
              "      <td>-555555555</td>\n",
              "      <td>4410</td>\n",
              "      <td>01</td>\n",
              "      <td>001</td>\n",
              "    </tr>\n",
              "    <tr>\n",
              "      <th>1</th>\n",
              "      <td>1003</td>\n",
              "      <td>Baldwin</td>\n",
              "      <td>AL</td>\n",
              "      <td>212830</td>\n",
              "      <td>58320</td>\n",
              "      <td>-555555555</td>\n",
              "      <td>1564</td>\n",
              "      <td>01</td>\n",
              "      <td>003</td>\n",
              "    </tr>\n",
              "    <tr>\n",
              "      <th>2</th>\n",
              "      <td>1005</td>\n",
              "      <td>Barbour</td>\n",
              "      <td>AL</td>\n",
              "      <td>25361</td>\n",
              "      <td>32525</td>\n",
              "      <td>-555555555</td>\n",
              "      <td>2291</td>\n",
              "      <td>01</td>\n",
              "      <td>005</td>\n",
              "    </tr>\n",
              "    <tr>\n",
              "      <th>3</th>\n",
              "      <td>1007</td>\n",
              "      <td>Bibb</td>\n",
              "      <td>AL</td>\n",
              "      <td>22493</td>\n",
              "      <td>47542</td>\n",
              "      <td>-555555555</td>\n",
              "      <td>5504</td>\n",
              "      <td>01</td>\n",
              "      <td>007</td>\n",
              "    </tr>\n",
              "    <tr>\n",
              "      <th>4</th>\n",
              "      <td>1009</td>\n",
              "      <td>Blount</td>\n",
              "      <td>AL</td>\n",
              "      <td>57681</td>\n",
              "      <td>49358</td>\n",
              "      <td>-555555555</td>\n",
              "      <td>2136</td>\n",
              "      <td>01</td>\n",
              "      <td>009</td>\n",
              "    </tr>\n",
              "  </tbody>\n",
              "</table>\n",
              "</div>"
            ],
            "text/plain": [
              "   FIPS     Name State POPULATION MEDIAN_HOUSEHOLD_INCOME B01003_001M  \\\n",
              "0  1001  Autauga    AL      55380                   58731  -555555555   \n",
              "1  1003  Baldwin    AL     212830                   58320  -555555555   \n",
              "2  1005  Barbour    AL      25361                   32525  -555555555   \n",
              "3  1007     Bibb    AL      22493                   47542  -555555555   \n",
              "4  1009   Blount    AL      57681                   49358  -555555555   \n",
              "\n",
              "  B19013_001M state county  \n",
              "0        4410    01    001  \n",
              "1        1564    01    003  \n",
              "2        2291    01    005  \n",
              "3        5504    01    007  \n",
              "4        2136    01    009  "
            ]
          },
          "metadata": {
            "tags": []
          },
          "execution_count": 17
        }
      ]
    },
    {
      "cell_type": "code",
      "metadata": {
        "id": "0aTM4D9pqjrK",
        "colab": {
          "base_uri": "https://localhost:8080/",
          "height": 263
        },
        "outputId": "c1302af8-15c2-4b51-aaff-0af7019a3b1a"
      },
      "source": [
        "# Selecting relevant columns from dataframe of all banks\n",
        "\n",
        "banks = df[['NAMEFULL', 'CNTYNAMB', 'STALPBR', 'SIMS_LATITUDE', 'SIMS_LONGITUDE','ASSET', 'BKCLASS', 'ADDRESS_FULL']].copy()\n",
        "banks = banks.rename(columns={\"CNTYNAMB\": \"Name\", \n",
        "                         \"STALPBR\": \"State\"})\n",
        "banks.head(2)"
      ],
      "execution_count": null,
      "outputs": [
        {
          "output_type": "execute_result",
          "data": {
            "text/html": [
              "<div>\n",
              "<style scoped>\n",
              "    .dataframe tbody tr th:only-of-type {\n",
              "        vertical-align: middle;\n",
              "    }\n",
              "\n",
              "    .dataframe tbody tr th {\n",
              "        vertical-align: top;\n",
              "    }\n",
              "\n",
              "    .dataframe thead th {\n",
              "        text-align: right;\n",
              "    }\n",
              "</style>\n",
              "<table border=\"1\" class=\"dataframe\">\n",
              "  <thead>\n",
              "    <tr style=\"text-align: right;\">\n",
              "      <th></th>\n",
              "      <th>NAMEFULL</th>\n",
              "      <th>Name</th>\n",
              "      <th>State</th>\n",
              "      <th>SIMS_LATITUDE</th>\n",
              "      <th>SIMS_LONGITUDE</th>\n",
              "      <th>ASSET</th>\n",
              "      <th>BKCLASS</th>\n",
              "      <th>ADDRESS_FULL</th>\n",
              "    </tr>\n",
              "  </thead>\n",
              "  <tbody>\n",
              "    <tr>\n",
              "      <th>0</th>\n",
              "      <td>State Street Bank and Trust Company</td>\n",
              "      <td>Suffolk</td>\n",
              "      <td>MA</td>\n",
              "      <td>42.352692</td>\n",
              "      <td>-71.057967</td>\n",
              "      <td>276,808,000</td>\n",
              "      <td>SM</td>\n",
              "      <td>1 Lincoln St. Fl 1, Boston, MA, 2111</td>\n",
              "    </tr>\n",
              "    <tr>\n",
              "      <th>1</th>\n",
              "      <td>State Street Bank and Trust Company</td>\n",
              "      <td>Mercer</td>\n",
              "      <td>NJ</td>\n",
              "      <td>40.346826</td>\n",
              "      <td>-74.593563</td>\n",
              "      <td>276,808,000</td>\n",
              "      <td>SM</td>\n",
              "      <td>600 College Road East, Princeton, NJ, 8540</td>\n",
              "    </tr>\n",
              "  </tbody>\n",
              "</table>\n",
              "</div>"
            ],
            "text/plain": [
              "                              NAMEFULL     Name State  SIMS_LATITUDE  \\\n",
              "0  State Street Bank and Trust Company  Suffolk    MA      42.352692   \n",
              "1  State Street Bank and Trust Company   Mercer    NJ      40.346826   \n",
              "\n",
              "   SIMS_LONGITUDE        ASSET BKCLASS  \\\n",
              "0      -71.057967  276,808,000      SM   \n",
              "1      -74.593563  276,808,000      SM   \n",
              "\n",
              "                                 ADDRESS_FULL  \n",
              "0        1 Lincoln St. Fl 1, Boston, MA, 2111  \n",
              "1  600 College Road East, Princeton, NJ, 8540  "
            ]
          },
          "metadata": {
            "tags": []
          },
          "execution_count": 18
        }
      ]
    },
    {
      "cell_type": "code",
      "metadata": {
        "id": "3SoKllxlqoID"
      },
      "source": [
        "# Merge banks with fips+income, so I can now see which county each bank is in, \n",
        "# which FIPS code that corresponds with, \n",
        "# and what the population and median household income is in that county. \n",
        "\n",
        "# Merged on 2 criteria to account for repeating county names\n",
        "\n",
        "merged_banks = pd.merge(income_fips, banks,  how='left', left_on=['Name','State'], right_on = ['Name','State'])"
      ],
      "execution_count": null,
      "outputs": []
    },
    {
      "cell_type": "code",
      "metadata": {
        "id": "-9DW8LCKwZ0-",
        "colab": {
          "base_uri": "https://localhost:8080/",
          "height": 472
        },
        "outputId": "f1cf39ec-2eab-4149-ee24-664d733eed88"
      },
      "source": [
        "# Spot checking to make sure common county names in different states are assigned the right FIPS code\n",
        "merged_banks[merged_banks.Name == 'Washington'].head()"
      ],
      "execution_count": null,
      "outputs": [
        {
          "output_type": "execute_result",
          "data": {
            "text/html": [
              "<div>\n",
              "<style scoped>\n",
              "    .dataframe tbody tr th:only-of-type {\n",
              "        vertical-align: middle;\n",
              "    }\n",
              "\n",
              "    .dataframe tbody tr th {\n",
              "        vertical-align: top;\n",
              "    }\n",
              "\n",
              "    .dataframe thead th {\n",
              "        text-align: right;\n",
              "    }\n",
              "</style>\n",
              "<table border=\"1\" class=\"dataframe\">\n",
              "  <thead>\n",
              "    <tr style=\"text-align: right;\">\n",
              "      <th></th>\n",
              "      <th>FIPS</th>\n",
              "      <th>Name</th>\n",
              "      <th>State</th>\n",
              "      <th>POPULATION</th>\n",
              "      <th>MEDIAN_HOUSEHOLD_INCOME</th>\n",
              "      <th>B01003_001M</th>\n",
              "      <th>B19013_001M</th>\n",
              "      <th>state</th>\n",
              "      <th>county</th>\n",
              "      <th>NAMEFULL</th>\n",
              "      <th>SIMS_LATITUDE</th>\n",
              "      <th>SIMS_LONGITUDE</th>\n",
              "      <th>ASSET</th>\n",
              "      <th>BKCLASS</th>\n",
              "      <th>ADDRESS_FULL</th>\n",
              "    </tr>\n",
              "  </thead>\n",
              "  <tbody>\n",
              "    <tr>\n",
              "      <th>1393</th>\n",
              "      <td>1129</td>\n",
              "      <td>Washington</td>\n",
              "      <td>AL</td>\n",
              "      <td>16541</td>\n",
              "      <td>41370</td>\n",
              "      <td>-555555555</td>\n",
              "      <td>3437</td>\n",
              "      <td>01</td>\n",
              "      <td>129</td>\n",
              "      <td>The First, A National Banking Association</td>\n",
              "      <td>31.615291</td>\n",
              "      <td>-88.370991</td>\n",
              "      <td>5,075,725</td>\n",
              "      <td>N</td>\n",
              "      <td>30122 Hwy 17 South, Millry, AL, 36558</td>\n",
              "    </tr>\n",
              "    <tr>\n",
              "      <th>1394</th>\n",
              "      <td>1129</td>\n",
              "      <td>Washington</td>\n",
              "      <td>AL</td>\n",
              "      <td>16541</td>\n",
              "      <td>41370</td>\n",
              "      <td>-555555555</td>\n",
              "      <td>3437</td>\n",
              "      <td>01</td>\n",
              "      <td>129</td>\n",
              "      <td>The First, A National Banking Association</td>\n",
              "      <td>31.496954</td>\n",
              "      <td>-88.277053</td>\n",
              "      <td>5,075,725</td>\n",
              "      <td>N</td>\n",
              "      <td>34 Court St, Chatom, AL, 36518</td>\n",
              "    </tr>\n",
              "    <tr>\n",
              "      <th>1395</th>\n",
              "      <td>1129</td>\n",
              "      <td>Washington</td>\n",
              "      <td>AL</td>\n",
              "      <td>16541</td>\n",
              "      <td>41370</td>\n",
              "      <td>-555555555</td>\n",
              "      <td>3437</td>\n",
              "      <td>01</td>\n",
              "      <td>129</td>\n",
              "      <td>Smartbank</td>\n",
              "      <td>31.266630</td>\n",
              "      <td>-88.031204</td>\n",
              "      <td>3,265,878</td>\n",
              "      <td>SM</td>\n",
              "      <td>158 Commerce Street, Mcintosh, AL, 36553</td>\n",
              "    </tr>\n",
              "    <tr>\n",
              "      <th>1396</th>\n",
              "      <td>1129</td>\n",
              "      <td>Washington</td>\n",
              "      <td>AL</td>\n",
              "      <td>16541</td>\n",
              "      <td>41370</td>\n",
              "      <td>-555555555</td>\n",
              "      <td>3437</td>\n",
              "      <td>01</td>\n",
              "      <td>129</td>\n",
              "      <td>Smartbank</td>\n",
              "      <td>31.464369</td>\n",
              "      <td>-88.254409</td>\n",
              "      <td>3,265,878</td>\n",
              "      <td>SM</td>\n",
              "      <td>16780 Jordan Street, Chatom, AL, 36518</td>\n",
              "    </tr>\n",
              "    <tr>\n",
              "      <th>3825</th>\n",
              "      <td>5143</td>\n",
              "      <td>Washington</td>\n",
              "      <td>AR</td>\n",
              "      <td>232289</td>\n",
              "      <td>50451</td>\n",
              "      <td>-555555555</td>\n",
              "      <td>1049</td>\n",
              "      <td>05</td>\n",
              "      <td>143</td>\n",
              "      <td>Generations Bank</td>\n",
              "      <td>36.084617</td>\n",
              "      <td>-94.170474</td>\n",
              "      <td>602,380</td>\n",
              "      <td>NM</td>\n",
              "      <td>3665 N Investment Drive, Fayetteville, AR, 72703</td>\n",
              "    </tr>\n",
              "  </tbody>\n",
              "</table>\n",
              "</div>"
            ],
            "text/plain": [
              "      FIPS        Name State POPULATION MEDIAN_HOUSEHOLD_INCOME B01003_001M  \\\n",
              "1393  1129  Washington    AL      16541                   41370  -555555555   \n",
              "1394  1129  Washington    AL      16541                   41370  -555555555   \n",
              "1395  1129  Washington    AL      16541                   41370  -555555555   \n",
              "1396  1129  Washington    AL      16541                   41370  -555555555   \n",
              "3825  5143  Washington    AR     232289                   50451  -555555555   \n",
              "\n",
              "     B19013_001M state county                                   NAMEFULL  \\\n",
              "1393        3437    01    129  The First, A National Banking Association   \n",
              "1394        3437    01    129  The First, A National Banking Association   \n",
              "1395        3437    01    129                                  Smartbank   \n",
              "1396        3437    01    129                                  Smartbank   \n",
              "3825        1049    05    143                           Generations Bank   \n",
              "\n",
              "      SIMS_LATITUDE  SIMS_LONGITUDE      ASSET BKCLASS  \\\n",
              "1393      31.615291      -88.370991  5,075,725       N   \n",
              "1394      31.496954      -88.277053  5,075,725       N   \n",
              "1395      31.266630      -88.031204  3,265,878      SM   \n",
              "1396      31.464369      -88.254409  3,265,878      SM   \n",
              "3825      36.084617      -94.170474    602,380      NM   \n",
              "\n",
              "                                          ADDRESS_FULL  \n",
              "1393             30122 Hwy 17 South, Millry, AL, 36558  \n",
              "1394                    34 Court St, Chatom, AL, 36518  \n",
              "1395          158 Commerce Street, Mcintosh, AL, 36553  \n",
              "1396            16780 Jordan Street, Chatom, AL, 36518  \n",
              "3825  3665 N Investment Drive, Fayetteville, AR, 72703  "
            ]
          },
          "metadata": {
            "tags": []
          },
          "execution_count": 20
        }
      ]
    },
    {
      "cell_type": "markdown",
      "metadata": {
        "id": "myCFlYYf-p5c"
      },
      "source": [
        "Analysis: \n",
        "\n",
        "GOALS: \n",
        "1. **DONE:** Count number of banks per head per FIPS code (Count number of entries divided by population)\n",
        "2. **DONE:** Use Equifax county level credit data to look at trends in credit scores in the 10. \n",
        "3. Use Safegraph 2018 data to check how frequented these branches were. Check foot-traffic of other branches in the FIPS code region. \n",
        "4. Last resort: Pick the lowest ones and do spot analysis on which banks closed between 2018 and 2020. Branch data for 2018 here: https://www7.fdic.gov/sod/dynaDownload.asp?barItem=6\n",
        "\n",
        "Note: I also have data on mergers in case this could become useful: https://www.fdic.gov/bank/individual/merger/2020/2020.pdf"
      ]
    },
    {
      "cell_type": "code",
      "metadata": {
        "id": "pcIORqWADgBY"
      },
      "source": [
        "# Number of banks per FIPS code\n",
        "\n",
        "FIPS_counts = merged_banks.FIPS.value_counts().rename_axis('FIPS').to_frame('Banks')\n",
        "\n",
        "# Merge this with population data -- dataframe \"income\"\n",
        "\n",
        "FIPS_counts = FIPS_counts.merge(income, on='FIPS', how='left')\n",
        "FIPS_counts.head()\n",
        "\n",
        "# Divide Banks by POPULATION \n",
        "  \n",
        "FIPS_counts = FIPS_counts.dropna()\n",
        "FIPS_counts['POPULATION'] = FIPS_counts['POPULATION'].astype(int)\n",
        "FIPS_counts['BANKS_PER_CAP*100'] = (FIPS_counts['Banks']/FIPS_counts['POPULATION'])*100"
      ],
      "execution_count": null,
      "outputs": []
    },
    {
      "cell_type": "code",
      "metadata": {
        "id": "MyiBJ0BKJvsm",
        "colab": {
          "base_uri": "https://localhost:8080/",
          "height": 442
        },
        "outputId": "5f8ef52c-3523-416c-bce8-5a1109f44fb2"
      },
      "source": [
        "# Creating a df called banks_cap \n",
        "# banks_cap is just FIPS_counts sorted by banks per capita and income, \n",
        "# Merged in with fips codes. \n",
        "\n",
        "banks_cap = FIPS_counts.sort_values(by=[\"BANKS_PER_CAP*100\", \"MEDIAN_HOUSEHOLD_INCOME\"]).merge(fips, on=\"FIPS\", how='left')\n",
        "banks_cap.head(10)"
      ],
      "execution_count": null,
      "outputs": [
        {
          "output_type": "execute_result",
          "data": {
            "text/html": [
              "<div>\n",
              "<style scoped>\n",
              "    .dataframe tbody tr th:only-of-type {\n",
              "        vertical-align: middle;\n",
              "    }\n",
              "\n",
              "    .dataframe tbody tr th {\n",
              "        vertical-align: top;\n",
              "    }\n",
              "\n",
              "    .dataframe thead th {\n",
              "        text-align: right;\n",
              "    }\n",
              "</style>\n",
              "<table border=\"1\" class=\"dataframe\">\n",
              "  <thead>\n",
              "    <tr style=\"text-align: right;\">\n",
              "      <th></th>\n",
              "      <th>FIPS</th>\n",
              "      <th>Banks</th>\n",
              "      <th>POPULATION</th>\n",
              "      <th>MEDIAN_HOUSEHOLD_INCOME</th>\n",
              "      <th>B01003_001M</th>\n",
              "      <th>B19013_001M</th>\n",
              "      <th>state</th>\n",
              "      <th>county</th>\n",
              "      <th>BANKS_PER_CAP*100</th>\n",
              "      <th>Name</th>\n",
              "      <th>State</th>\n",
              "    </tr>\n",
              "  </thead>\n",
              "  <tbody>\n",
              "    <tr>\n",
              "      <th>0</th>\n",
              "      <td>29189</td>\n",
              "      <td>1</td>\n",
              "      <td>996919</td>\n",
              "      <td>67420</td>\n",
              "      <td>-555555555</td>\n",
              "      <td>683</td>\n",
              "      <td>29</td>\n",
              "      <td>189</td>\n",
              "      <td>0.000100</td>\n",
              "      <td>St Louis</td>\n",
              "      <td>MO</td>\n",
              "    </tr>\n",
              "    <tr>\n",
              "      <th>1</th>\n",
              "      <td>17043</td>\n",
              "      <td>1</td>\n",
              "      <td>929060</td>\n",
              "      <td>92809</td>\n",
              "      <td>-555555555</td>\n",
              "      <td>1225</td>\n",
              "      <td>17</td>\n",
              "      <td>043</td>\n",
              "      <td>0.000108</td>\n",
              "      <td>Du Page</td>\n",
              "      <td>IL</td>\n",
              "    </tr>\n",
              "    <tr>\n",
              "      <th>2</th>\n",
              "      <td>24033</td>\n",
              "      <td>1</td>\n",
              "      <td>908670</td>\n",
              "      <td>84920</td>\n",
              "      <td>-555555555</td>\n",
              "      <td>802</td>\n",
              "      <td>24</td>\n",
              "      <td>033</td>\n",
              "      <td>0.000110</td>\n",
              "      <td>Prince Georges</td>\n",
              "      <td>MD</td>\n",
              "    </tr>\n",
              "    <tr>\n",
              "      <th>3</th>\n",
              "      <td>13089</td>\n",
              "      <td>1</td>\n",
              "      <td>749323</td>\n",
              "      <td>62399</td>\n",
              "      <td>-555555555</td>\n",
              "      <td>935</td>\n",
              "      <td>13</td>\n",
              "      <td>089</td>\n",
              "      <td>0.000133</td>\n",
              "      <td>De Kalb</td>\n",
              "      <td>GA</td>\n",
              "    </tr>\n",
              "    <tr>\n",
              "      <th>4</th>\n",
              "      <td>11001</td>\n",
              "      <td>1</td>\n",
              "      <td>692683</td>\n",
              "      <td>86420</td>\n",
              "      <td>-555555555</td>\n",
              "      <td>1008</td>\n",
              "      <td>11</td>\n",
              "      <td>001</td>\n",
              "      <td>0.000144</td>\n",
              "      <td>Washington</td>\n",
              "      <td>DC</td>\n",
              "    </tr>\n",
              "    <tr>\n",
              "      <th>5</th>\n",
              "      <td>24510</td>\n",
              "      <td>1</td>\n",
              "      <td>609032</td>\n",
              "      <td>50379</td>\n",
              "      <td>-555555555</td>\n",
              "      <td>820</td>\n",
              "      <td>24</td>\n",
              "      <td>510</td>\n",
              "      <td>0.000164</td>\n",
              "      <td>Baltimore City</td>\n",
              "      <td>MD</td>\n",
              "    </tr>\n",
              "    <tr>\n",
              "      <th>6</th>\n",
              "      <td>51810</td>\n",
              "      <td>1</td>\n",
              "      <td>450201</td>\n",
              "      <td>76610</td>\n",
              "      <td>-555555555</td>\n",
              "      <td>1188</td>\n",
              "      <td>51</td>\n",
              "      <td>810</td>\n",
              "      <td>0.000222</td>\n",
              "      <td>Virginia Beach City</td>\n",
              "      <td>VA</td>\n",
              "    </tr>\n",
              "    <tr>\n",
              "      <th>7</th>\n",
              "      <td>29183</td>\n",
              "      <td>1</td>\n",
              "      <td>394290</td>\n",
              "      <td>84978</td>\n",
              "      <td>-555555555</td>\n",
              "      <td>1195</td>\n",
              "      <td>29</td>\n",
              "      <td>183</td>\n",
              "      <td>0.000254</td>\n",
              "      <td>St Charles</td>\n",
              "      <td>MO</td>\n",
              "    </tr>\n",
              "    <tr>\n",
              "      <th>8</th>\n",
              "      <td>12111</td>\n",
              "      <td>1</td>\n",
              "      <td>312947</td>\n",
              "      <td>52322</td>\n",
              "      <td>-555555555</td>\n",
              "      <td>1459</td>\n",
              "      <td>12</td>\n",
              "      <td>111</td>\n",
              "      <td>0.000320</td>\n",
              "      <td>St Lucie</td>\n",
              "      <td>FL</td>\n",
              "    </tr>\n",
              "    <tr>\n",
              "      <th>9</th>\n",
              "      <td>29510</td>\n",
              "      <td>1</td>\n",
              "      <td>308174</td>\n",
              "      <td>43896</td>\n",
              "      <td>-555555555</td>\n",
              "      <td>1098</td>\n",
              "      <td>29</td>\n",
              "      <td>510</td>\n",
              "      <td>0.000324</td>\n",
              "      <td>St Louis City</td>\n",
              "      <td>MO</td>\n",
              "    </tr>\n",
              "  </tbody>\n",
              "</table>\n",
              "</div>"
            ],
            "text/plain": [
              "    FIPS  Banks  POPULATION MEDIAN_HOUSEHOLD_INCOME B01003_001M B19013_001M  \\\n",
              "0  29189      1      996919                   67420  -555555555         683   \n",
              "1  17043      1      929060                   92809  -555555555        1225   \n",
              "2  24033      1      908670                   84920  -555555555         802   \n",
              "3  13089      1      749323                   62399  -555555555         935   \n",
              "4  11001      1      692683                   86420  -555555555        1008   \n",
              "5  24510      1      609032                   50379  -555555555         820   \n",
              "6  51810      1      450201                   76610  -555555555        1188   \n",
              "7  29183      1      394290                   84978  -555555555        1195   \n",
              "8  12111      1      312947                   52322  -555555555        1459   \n",
              "9  29510      1      308174                   43896  -555555555        1098   \n",
              "\n",
              "  state county  BANKS_PER_CAP*100                 Name State  \n",
              "0    29    189           0.000100             St Louis    MO  \n",
              "1    17    043           0.000108              Du Page    IL  \n",
              "2    24    033           0.000110       Prince Georges    MD  \n",
              "3    13    089           0.000133              De Kalb    GA  \n",
              "4    11    001           0.000144           Washington    DC  \n",
              "5    24    510           0.000164       Baltimore City    MD  \n",
              "6    51    810           0.000222  Virginia Beach City    VA  \n",
              "7    29    183           0.000254           St Charles    MO  \n",
              "8    12    111           0.000320             St Lucie    FL  \n",
              "9    29    510           0.000324        St Louis City    MO  "
            ]
          },
          "metadata": {
            "tags": []
          },
          "execution_count": 22
        }
      ]
    },
    {
      "cell_type": "markdown",
      "metadata": {
        "id": "HkufiK-DJ4JB"
      },
      "source": [
        "Here's my credit score data: https://fred.stlouisfed.org/searchresults/?st=subprime%20population&t=minnehaha%20county%2C%20sd&rt=minnehaha%20county%2C%20sd&ob=sr\n",
        "\n",
        "From this, counties with the FEWEST banks per head and their credit score data: (REDOING THIS WITH 3 BANKS MINIMUM)\n",
        "1. St Louis, MO: https://fred.stlouisfed.org/series/EQFXSUBPRIME029189 \n",
        "2. Du Page, IL: https://fred.stlouisfed.org/series/EQFXSUBPRIME017043\n",
        "3. Prince Georges, MD: https://fred.stlouisfed.org/series/EQFXSUBPRIME024033\n",
        "4. De Kalb, GA: https://fred.stlouisfed.org/series/EQFXSUBPRIME013089 \n",
        "5. Washington, DC: https://fred.stlouisfed.org/series/EQFXSUBPRIME011001 \n",
        "6. Baltimore City, MD: https://fred.stlouisfed.org/series/EQFXSUBPRIME024510 \n",
        "7. Virgina Beach City, VA: https://fred.stlouisfed.org/series/EQFXSUBPRIME051810 \n",
        "8. St Charles, MO: https://fred.stlouisfed.org/series/EQFXSUBPRIME029183 \n",
        "9. St Lucie, FL: https://fred.stlouisfed.org/series/EQFXSUBPRIME012111 \n",
        "10. St Louis City, MO: https://fred.stlouisfed.org/series/EQFXSUBPRIME029510 \n",
        "\n",
        "Lowest:(REDOING THIS WITH 50K POP MIN)\n",
        "1. Towner, ND: https://fred.stlouisfed.org/series/EQFXSUBPRIME038095 \n",
        "2. Petroleum, MT: https://fred.stlouisfed.org/series/EQFXSUBPRIME030069 \n",
        "3. Blaine, NE: https://fred.stlouisfed.org/series/EQFXSUBPRIME031009 "
      ]
    },
    {
      "cell_type": "markdown",
      "metadata": {
        "id": "oLaw6Ui1T_uV"
      },
      "source": [
        "Analysis here: \n",
        "My lowest ones still have low credit scores, and this is definitely because I have a mix of urban, rural and small and large. Need to do this again but set a minimum population -- 50,000 is reasonable, to make sure I'm not just looking at outliers for the \"Lowest\" category. \n",
        "\n",
        "**STEPS**\n",
        "1. Redo lowest using 50,000 as population\n",
        "2. Once complete, manually add in average credit score 2020 data for highest 10 and lowest 10. "
      ]
    },
    {
      "cell_type": "code",
      "metadata": {
        "id": "udM9Jg7uU7H1"
      },
      "source": [
        "compression_opts = dict(method='zip',\n",
        "                        archive_name='bankscredit.csv')  \n",
        "banks_cap.to_csv('bankscredit.zip', index=False,\n",
        "          compression=compression_opts)"
      ],
      "execution_count": null,
      "outputs": []
    },
    {
      "cell_type": "markdown",
      "metadata": {
        "id": "vfQu7ODsdHkP"
      },
      "source": [
        "Analysis from credit score and income data:\n",
        "\n",
        "CREDIT SCORES\n",
        "1. In the 10 counties with the lowest number of banks per capita, on average, 32% of people have a credit score under 660. \n",
        "\n",
        "2. Meanwhie, in the 10 counties with the most banks per capita, only 24% have credit scores under 660. \n",
        "\n",
        "INCOME\n",
        "1. In the 10 counties with the lowest number of banks per capita, average household income is $54,674. \n",
        "\n",
        "2. In the 10 counties with the most banks per capita, average household income is $60170"
      ]
    },
    {
      "cell_type": "code",
      "metadata": {
        "id": "dA7ycaUIf_c4"
      },
      "source": [
        "     "
      ],
      "execution_count": null,
      "outputs": []
    }
  ]
}